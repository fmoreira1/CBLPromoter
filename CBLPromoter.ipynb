{
  "nbformat": 4,
  "nbformat_minor": 0,
  "metadata": {
    "colab": {
      "name": "CBLPromoter.ipynb",
      "provenance": [],
      "collapsed_sections": [
        "VthGxFZCpqRX",
        "YDyP2MHoD8fN",
        "9RGUETJQD8fP",
        "V8Tq-AfLD8fR",
        "Q9Hq_kMzD8fT",
        "YeHjm4v6D8fW"
      ],
      "machine_shape": "hm",
      "include_colab_link": true
    },
    "kernelspec": {
      "display_name": "Python 3",
      "language": "python",
      "name": "python3"
    },
    "language_info": {
      "codemirror_mode": {
        "name": "ipython",
        "version": 3
      },
      "file_extension": ".py",
      "mimetype": "text/x-python",
      "name": "python",
      "nbconvert_exporter": "python",
      "pygments_lexer": "ipython3",
      "version": "3.7.10"
    },
    "accelerator": "TPU"
  },
  "cells": [
    {
      "cell_type": "markdown",
      "metadata": {
        "id": "view-in-github",
        "colab_type": "text"
      },
      "source": [
        "<a href=\"https://colab.research.google.com/github/fmoreira1/CBLPromoter/blob/main/CBLPromoter.ipynb\" target=\"_parent\"><img src=\"https://colab.research.google.com/assets/colab-badge.svg\" alt=\"Open In Colab\"/></a>"
      ]
    },
    {
      "cell_type": "markdown",
      "metadata": {
        "id": "qydnPbnpwhfD"
      },
      "source": [
        "## CBLPromoter\n",
        "### by Fernando Moreira Ruiz"
      ]
    },
    {
      "cell_type": "markdown",
      "metadata": {
        "id": "VthGxFZCpqRX"
      },
      "source": [
        "# Import Libraries"
      ]
    },
    {
      "cell_type": "code",
      "metadata": {
        "colab": {
          "base_uri": "https://localhost:8080/"
        },
        "id": "mLoDJgJApzAb",
        "outputId": "c5240f10-e1b5-49b2-bff3-bec6a4286a40"
      },
      "source": [
        "!pip install Bio\n",
        "!pip install gdown"
      ],
      "execution_count": null,
      "outputs": [
        {
          "output_type": "stream",
          "text": [
            "Collecting Bio\n",
            "  Downloading bio-0.5.0-py3-none-any.whl (94 kB)\n",
            "\u001b[?25l\r\u001b[K     |███▌                            | 10 kB 28.3 MB/s eta 0:00:01\r\u001b[K     |███████                         | 20 kB 25.2 MB/s eta 0:00:01\r\u001b[K     |██████████▍                     | 30 kB 11.5 MB/s eta 0:00:01\r\u001b[K     |██████████████                  | 40 kB 9.1 MB/s eta 0:00:01\r\u001b[K     |█████████████████▍              | 51 kB 5.0 MB/s eta 0:00:01\r\u001b[K     |████████████████████▉           | 61 kB 5.5 MB/s eta 0:00:01\r\u001b[K     |████████████████████████▎       | 71 kB 6.0 MB/s eta 0:00:01\r\u001b[K     |███████████████████████████▉    | 81 kB 6.7 MB/s eta 0:00:01\r\u001b[K     |███████████████████████████████▎| 92 kB 6.2 MB/s eta 0:00:01\r\u001b[K     |████████████████████████████████| 94 kB 2.0 MB/s \n",
            "\u001b[?25hRequirement already satisfied: plac in /usr/local/lib/python3.7/dist-packages (from Bio) (1.1.3)\n",
            "Requirement already satisfied: requests in /usr/local/lib/python3.7/dist-packages (from Bio) (2.23.0)\n",
            "Collecting biopython>=1.78\n",
            "  Downloading biopython-1.79-cp37-cp37m-manylinux_2_5_x86_64.manylinux1_x86_64.whl (2.3 MB)\n",
            "\u001b[K     |████████████████████████████████| 2.3 MB 9.1 MB/s \n",
            "\u001b[?25hRequirement already satisfied: numpy<1.20 in /usr/local/lib/python3.7/dist-packages (from Bio) (1.19.5)\n",
            "Requirement already satisfied: urllib3!=1.25.0,!=1.25.1,<1.26,>=1.21.1 in /usr/local/lib/python3.7/dist-packages (from requests->Bio) (1.24.3)\n",
            "Requirement already satisfied: idna<3,>=2.5 in /usr/local/lib/python3.7/dist-packages (from requests->Bio) (2.10)\n",
            "Requirement already satisfied: certifi>=2017.4.17 in /usr/local/lib/python3.7/dist-packages (from requests->Bio) (2021.5.30)\n",
            "Requirement already satisfied: chardet<4,>=3.0.2 in /usr/local/lib/python3.7/dist-packages (from requests->Bio) (3.0.4)\n",
            "Installing collected packages: biopython, Bio\n",
            "Successfully installed Bio-0.5.0 biopython-1.79\n",
            "Requirement already satisfied: gdown in /usr/local/lib/python3.7/dist-packages (3.6.4)\n",
            "Requirement already satisfied: tqdm in /usr/local/lib/python3.7/dist-packages (from gdown) (4.41.1)\n",
            "Requirement already satisfied: requests in /usr/local/lib/python3.7/dist-packages (from gdown) (2.23.0)\n",
            "Requirement already satisfied: six in /usr/local/lib/python3.7/dist-packages (from gdown) (1.15.0)\n",
            "Requirement already satisfied: urllib3!=1.25.0,!=1.25.1,<1.26,>=1.21.1 in /usr/local/lib/python3.7/dist-packages (from requests->gdown) (1.24.3)\n",
            "Requirement already satisfied: chardet<4,>=3.0.2 in /usr/local/lib/python3.7/dist-packages (from requests->gdown) (3.0.4)\n",
            "Requirement already satisfied: idna<3,>=2.5 in /usr/local/lib/python3.7/dist-packages (from requests->gdown) (2.10)\n",
            "Requirement already satisfied: certifi>=2017.4.17 in /usr/local/lib/python3.7/dist-packages (from requests->gdown) (2021.5.30)\n"
          ],
          "name": "stdout"
        }
      ]
    },
    {
      "cell_type": "code",
      "metadata": {
        "id": "db8B4P-yppxv"
      },
      "source": [
        "import pandas as pd\n",
        "import numpy as np\n",
        "import re\n",
        "import random\n",
        "\n",
        "import textwrap\n",
        "from Bio import SeqIO\n",
        "import matplotlib.pyplot as plt\n",
        "\n",
        "import tensorflow as tf\n",
        "from tensorflow import keras\n",
        "\n",
        "from sklearn.preprocessing import LabelEncoder\n",
        "from sklearn.preprocessing import OneHotEncoder\n",
        "from sklearn.utils import shuffle\n",
        "\n",
        "# necessary to use colab TPUs\n",
        "import os\n",
        "from google.colab import auth\n",
        "auth.authenticate_user()"
      ],
      "execution_count": null,
      "outputs": []
    },
    {
      "cell_type": "markdown",
      "metadata": {
        "id": "YDyP2MHoD8fN"
      },
      "source": [
        "# Load Data"
      ]
    },
    {
      "cell_type": "code",
      "metadata": {
        "colab": {
          "base_uri": "https://localhost:8080/"
        },
        "id": "4d9xRESUD8fO",
        "outputId": "5034689d-089e-4239-d612-c06e0d4f0b5d"
      },
      "source": [
        "!gdown --id 199We0DbFLfSthZty69VvUt7nGxP6w5Ft\n",
        "!gdown --id 1Mkbq-4WrWVi5dvIchCzHjOvb_mtyrahw\n",
        "!gdown --id 1FPasW-WX5r-IwulnAEbm1e_ZiLcq17vQ\n",
        "!gdown --id 1aAoUA7omGZDJqIr3KkPL93X6v2I2s_TA"
      ],
      "execution_count": null,
      "outputs": [
        {
          "output_type": "stream",
          "text": [
            "Downloading...\n",
            "From: https://drive.google.com/uc?id=199We0DbFLfSthZty69VvUt7nGxP6w5Ft\n",
            "To: /content/dp_human_non_tata\n",
            "9.79MB [00:00, 154MB/s]\n",
            "Downloading...\n",
            "From: https://drive.google.com/uc?id=1Mkbq-4WrWVi5dvIchCzHjOvb_mtyrahw\n",
            "To: /content/dp_human_tata\n",
            "100% 1.13M/1.13M [00:00<00:00, 71.4MB/s]\n",
            "Downloading...\n",
            "From: https://drive.google.com/uc?id=1FPasW-WX5r-IwulnAEbm1e_ZiLcq17vQ\n",
            "To: /content/dp_mouse_non_tata\n",
            "9.79MB [00:00, 155MB/s]\n",
            "Downloading...\n",
            "From: https://drive.google.com/uc?id=1aAoUA7omGZDJqIr3KkPL93X6v2I2s_TA\n",
            "To: /content/dp_mouse_tata\n",
            "100% 1.13M/1.13M [00:00<00:00, 74.6MB/s]\n"
          ],
          "name": "stdout"
        }
      ]
    },
    {
      "cell_type": "code",
      "metadata": {
        "colab": {
          "base_uri": "https://localhost:8080/"
        },
        "id": "YMspYK66D8fP",
        "outputId": "b671779a-f108-4f9f-da6c-af1dd956081b"
      },
      "source": [
        "!cp 'dp_human_non_tata' human_non_tata.fasta\n",
        "!cp 'dp_human_tata' human_tata.fasta\n",
        "!cp 'dp_mouse_non_tata' mouse_non_tata.fasta\n",
        "!cp 'dp_mouse_tata' mouse_tata.fasta\n",
        "!ls"
      ],
      "execution_count": null,
      "outputs": [
        {
          "output_type": "stream",
          "text": [
            "adc.json\t   dp_mouse_non_tata\t human_tata.fasta      sample_data\n",
            "dp_human_non_tata  dp_mouse_tata\t mouse_non_tata.fasta\n",
            "dp_human_tata\t   human_non_tata.fasta  mouse_tata.fasta\n"
          ],
          "name": "stdout"
        }
      ]
    },
    {
      "cell_type": "markdown",
      "metadata": {
        "id": "9RGUETJQD8fP"
      },
      "source": [
        "# Convert Data to Pandas DF"
      ]
    },
    {
      "cell_type": "markdown",
      "metadata": {
        "id": "yxkXvnNZD8fQ"
      },
      "source": [
        "## Human"
      ]
    },
    {
      "cell_type": "code",
      "metadata": {
        "colab": {
          "base_uri": "https://localhost:8080/",
          "height": 507
        },
        "id": "VFVapwy9D8fQ",
        "outputId": "dc6250c4-7407-431e-918e-17417335a144"
      },
      "source": [
        "records = SeqIO.parse(\"human_non_tata.fasta\", \"fasta\")\n",
        "SeqIO.write(records, \"human_non_tata.tab\", \"tab\")\n",
        "human_df = pd.read_csv('human_non_tata.tab', sep='\\t', header=None)\n",
        "header = ['Name', 'Sequence']\n",
        "human_df.columns = header[:len(human_df.columns)]\n",
        "human_df"
      ],
      "execution_count": null,
      "outputs": [
        {
          "output_type": "execute_result",
          "data": {
            "text/html": [
              "<div>\n",
              "<style scoped>\n",
              "    .dataframe tbody tr th:only-of-type {\n",
              "        vertical-align: middle;\n",
              "    }\n",
              "\n",
              "    .dataframe tbody tr th {\n",
              "        vertical-align: top;\n",
              "    }\n",
              "\n",
              "    .dataframe thead th {\n",
              "        text-align: right;\n",
              "    }\n",
              "</style>\n",
              "<table border=\"1\" class=\"dataframe\">\n",
              "  <thead>\n",
              "    <tr style=\"text-align: right;\">\n",
              "      <th></th>\n",
              "      <th>Name</th>\n",
              "      <th>Sequence</th>\n",
              "    </tr>\n",
              "  </thead>\n",
              "  <tbody>\n",
              "    <tr>\n",
              "      <th>0</th>\n",
              "      <td>FP020532</td>\n",
              "      <td>AGCCACGTGAGTCGCTGGGCTATGGGTGGTGGTGGGGGTGAGGGAG...</td>\n",
              "    </tr>\n",
              "    <tr>\n",
              "      <th>1</th>\n",
              "      <td>FP020301</td>\n",
              "      <td>TACTTCCGGTTTCCACGGAGCTCCGCCCCTTAGGGGGGTTCTCGCT...</td>\n",
              "    </tr>\n",
              "    <tr>\n",
              "      <th>2</th>\n",
              "      <td>FP008839</td>\n",
              "      <td>GGAGCCTGGTAGGGAGGACAAATCTCTCGAAATCTCAGTTGGCGCT...</td>\n",
              "    </tr>\n",
              "    <tr>\n",
              "      <th>3</th>\n",
              "      <td>FP002661</td>\n",
              "      <td>GACCTCCTGTGGTGCTTTCAGTTAGAGCCACTCCCTTTACAAACAA...</td>\n",
              "    </tr>\n",
              "    <tr>\n",
              "      <th>4</th>\n",
              "      <td>FP004964</td>\n",
              "      <td>AATATCTAGGCTTTTAAAATAAGGTGAAAATAAAAGGCAAATTGTC...</td>\n",
              "    </tr>\n",
              "    <tr>\n",
              "      <th>...</th>\n",
              "      <td>...</td>\n",
              "      <td>...</td>\n",
              "    </tr>\n",
              "    <tr>\n",
              "      <th>26528</th>\n",
              "      <td>FP020671</td>\n",
              "      <td>TTAGCCTCTAGGCCTCAGTAGTCCCAGGGAAGTAATAATCGCTATT...</td>\n",
              "    </tr>\n",
              "    <tr>\n",
              "      <th>26529</th>\n",
              "      <td>FP017673</td>\n",
              "      <td>AATTAAACGGTAGTTAAGAGCAAAGGTGAAAATGAGAAAAAAAAGG...</td>\n",
              "    </tr>\n",
              "    <tr>\n",
              "      <th>26530</th>\n",
              "      <td>FP004916</td>\n",
              "      <td>GGAGAGGCTCCCCAAGTTGGCCGGGTGTGGGGAGAGGGGACATAGC...</td>\n",
              "    </tr>\n",
              "    <tr>\n",
              "      <th>26531</th>\n",
              "      <td>FP009666</td>\n",
              "      <td>CGCACAGAGCATTCCGTCACCCCAGGCCCACGCTCTCCAGCCCACC...</td>\n",
              "    </tr>\n",
              "    <tr>\n",
              "      <th>26532</th>\n",
              "      <td>FP019591</td>\n",
              "      <td>ACACTGTCTGCCTGGATGAGGGGTGAGGCTGAGGTGCCCCCTTGCC...</td>\n",
              "    </tr>\n",
              "  </tbody>\n",
              "</table>\n",
              "<p>26533 rows × 2 columns</p>\n",
              "</div>"
            ],
            "text/plain": [
              "           Name                                           Sequence\n",
              "0      FP020532  AGCCACGTGAGTCGCTGGGCTATGGGTGGTGGTGGGGGTGAGGGAG...\n",
              "1      FP020301  TACTTCCGGTTTCCACGGAGCTCCGCCCCTTAGGGGGGTTCTCGCT...\n",
              "2      FP008839  GGAGCCTGGTAGGGAGGACAAATCTCTCGAAATCTCAGTTGGCGCT...\n",
              "3      FP002661  GACCTCCTGTGGTGCTTTCAGTTAGAGCCACTCCCTTTACAAACAA...\n",
              "4      FP004964  AATATCTAGGCTTTTAAAATAAGGTGAAAATAAAAGGCAAATTGTC...\n",
              "...         ...                                                ...\n",
              "26528  FP020671  TTAGCCTCTAGGCCTCAGTAGTCCCAGGGAAGTAATAATCGCTATT...\n",
              "26529  FP017673  AATTAAACGGTAGTTAAGAGCAAAGGTGAAAATGAGAAAAAAAAGG...\n",
              "26530  FP004916  GGAGAGGCTCCCCAAGTTGGCCGGGTGTGGGGAGAGGGGACATAGC...\n",
              "26531  FP009666  CGCACAGAGCATTCCGTCACCCCAGGCCCACGCTCTCCAGCCCACC...\n",
              "26532  FP019591  ACACTGTCTGCCTGGATGAGGGGTGAGGCTGAGGTGCCCCCTTGCC...\n",
              "\n",
              "[26533 rows x 2 columns]"
            ]
          },
          "metadata": {
            "tags": []
          },
          "execution_count": 5
        }
      ]
    },
    {
      "cell_type": "markdown",
      "metadata": {
        "id": "V8Tq-AfLD8fR"
      },
      "source": [
        "## Mouse"
      ]
    },
    {
      "cell_type": "code",
      "metadata": {
        "colab": {
          "base_uri": "https://localhost:8080/",
          "height": 507
        },
        "id": "hqDRXtVvD8fS",
        "outputId": "f83b4a30-f3bf-4c61-bbbe-3edb9b62fed3"
      },
      "source": [
        "records = SeqIO.parse(\"mouse_non_tata.fasta\", \"fasta\")\n",
        "SeqIO.write(records, \"mouse_non_tata.tab\", \"tab\")\n",
        "mouse_df = pd.read_csv('mouse_non_tata.tab', sep='\\t', header=None)\n",
        "header = ['Name', 'Sequence']\n",
        "mouse_df.columns = header[:len(mouse_df.columns)]\n",
        "mouse_df"
      ],
      "execution_count": null,
      "outputs": [
        {
          "output_type": "execute_result",
          "data": {
            "text/html": [
              "<div>\n",
              "<style scoped>\n",
              "    .dataframe tbody tr th:only-of-type {\n",
              "        vertical-align: middle;\n",
              "    }\n",
              "\n",
              "    .dataframe tbody tr th {\n",
              "        vertical-align: top;\n",
              "    }\n",
              "\n",
              "    .dataframe thead th {\n",
              "        text-align: right;\n",
              "    }\n",
              "</style>\n",
              "<table border=\"1\" class=\"dataframe\">\n",
              "  <thead>\n",
              "    <tr style=\"text-align: right;\">\n",
              "      <th></th>\n",
              "      <th>Name</th>\n",
              "      <th>Sequence</th>\n",
              "    </tr>\n",
              "  </thead>\n",
              "  <tbody>\n",
              "    <tr>\n",
              "      <th>0</th>\n",
              "      <td>FP020532</td>\n",
              "      <td>AGCCACGTGAGTCGCTGGGCTATGGGTGGTGGTGGGGGTGAGGGAG...</td>\n",
              "    </tr>\n",
              "    <tr>\n",
              "      <th>1</th>\n",
              "      <td>FP020301</td>\n",
              "      <td>TACTTCCGGTTTCCACGGAGCTCCGCCCCTTAGGGGGGTTCTCGCT...</td>\n",
              "    </tr>\n",
              "    <tr>\n",
              "      <th>2</th>\n",
              "      <td>FP008839</td>\n",
              "      <td>GGAGCCTGGTAGGGAGGACAAATCTCTCGAAATCTCAGTTGGCGCT...</td>\n",
              "    </tr>\n",
              "    <tr>\n",
              "      <th>3</th>\n",
              "      <td>FP002661</td>\n",
              "      <td>GACCTCCTGTGGTGCTTTCAGTTAGAGCCACTCCCTTTACAAACAA...</td>\n",
              "    </tr>\n",
              "    <tr>\n",
              "      <th>4</th>\n",
              "      <td>FP004964</td>\n",
              "      <td>AATATCTAGGCTTTTAAAATAAGGTGAAAATAAAAGGCAAATTGTC...</td>\n",
              "    </tr>\n",
              "    <tr>\n",
              "      <th>...</th>\n",
              "      <td>...</td>\n",
              "      <td>...</td>\n",
              "    </tr>\n",
              "    <tr>\n",
              "      <th>26528</th>\n",
              "      <td>FP020671</td>\n",
              "      <td>TTAGCCTCTAGGCCTCAGTAGTCCCAGGGAAGTAATAATCGCTATT...</td>\n",
              "    </tr>\n",
              "    <tr>\n",
              "      <th>26529</th>\n",
              "      <td>FP017673</td>\n",
              "      <td>AATTAAACGGTAGTTAAGAGCAAAGGTGAAAATGAGAAAAAAAAGG...</td>\n",
              "    </tr>\n",
              "    <tr>\n",
              "      <th>26530</th>\n",
              "      <td>FP004916</td>\n",
              "      <td>GGAGAGGCTCCCCAAGTTGGCCGGGTGTGGGGAGAGGGGACATAGC...</td>\n",
              "    </tr>\n",
              "    <tr>\n",
              "      <th>26531</th>\n",
              "      <td>FP009666</td>\n",
              "      <td>CGCACAGAGCATTCCGTCACCCCAGGCCCACGCTCTCCAGCCCACC...</td>\n",
              "    </tr>\n",
              "    <tr>\n",
              "      <th>26532</th>\n",
              "      <td>FP019591</td>\n",
              "      <td>ACACTGTCTGCCTGGATGAGGGGTGAGGCTGAGGTGCCCCCTTGCC...</td>\n",
              "    </tr>\n",
              "  </tbody>\n",
              "</table>\n",
              "<p>26533 rows × 2 columns</p>\n",
              "</div>"
            ],
            "text/plain": [
              "           Name                                           Sequence\n",
              "0      FP020532  AGCCACGTGAGTCGCTGGGCTATGGGTGGTGGTGGGGGTGAGGGAG...\n",
              "1      FP020301  TACTTCCGGTTTCCACGGAGCTCCGCCCCTTAGGGGGGTTCTCGCT...\n",
              "2      FP008839  GGAGCCTGGTAGGGAGGACAAATCTCTCGAAATCTCAGTTGGCGCT...\n",
              "3      FP002661  GACCTCCTGTGGTGCTTTCAGTTAGAGCCACTCCCTTTACAAACAA...\n",
              "4      FP004964  AATATCTAGGCTTTTAAAATAAGGTGAAAATAAAAGGCAAATTGTC...\n",
              "...         ...                                                ...\n",
              "26528  FP020671  TTAGCCTCTAGGCCTCAGTAGTCCCAGGGAAGTAATAATCGCTATT...\n",
              "26529  FP017673  AATTAAACGGTAGTTAAGAGCAAAGGTGAAAATGAGAAAAAAAAGG...\n",
              "26530  FP004916  GGAGAGGCTCCCCAAGTTGGCCGGGTGTGGGGAGAGGGGACATAGC...\n",
              "26531  FP009666  CGCACAGAGCATTCCGTCACCCCAGGCCCACGCTCTCCAGCCCACC...\n",
              "26532  FP019591  ACACTGTCTGCCTGGATGAGGGGTGAGGCTGAGGTGCCCCCTTGCC...\n",
              "\n",
              "[26533 rows x 2 columns]"
            ]
          },
          "metadata": {
            "tags": []
          },
          "execution_count": 6
        }
      ]
    },
    {
      "cell_type": "markdown",
      "metadata": {
        "id": "Q9Hq_kMzD8fT"
      },
      "source": [
        "# Create Negative Datasets"
      ]
    },
    {
      "cell_type": "code",
      "metadata": {
        "id": "Vb8wSX0VD8fU"
      },
      "source": [
        "def CreateNegativeDataSet(df):\n",
        "  negative_sequences = [] #init return variable\n",
        "  sequence = df['Sequence'].tolist() #get sequences\n",
        "\n",
        "  for current_sequence in sequence: #iterate through rows\n",
        "    split = textwrap.wrap(current_sequence, 15) # split into 20 subsequences of length 15\n",
        "    split_dict = {}\n",
        "    \n",
        "    for x,y in enumerate(split): # turn to dict\n",
        "      split_dict[x] = y\n",
        "\n",
        "    # get 12 random sequences\n",
        "    ran_keys = []\n",
        "    split_keys = list(split_dict.keys())\n",
        "    for x in range(0,12):\n",
        "      ran_keys.append(random.choice(split_keys))\n",
        "\n",
        "    # substitute the random 12 sequences\n",
        "    sub_ran_keys = []\n",
        "    for x in ran_keys:\n",
        "      sub_ran_keys.append(split[x])\n",
        "    random.shuffle(sub_ran_keys)\n",
        "\n",
        "    # combine the substituted and combined sequences\n",
        "    i = 0\n",
        "    for x in ran_keys:\n",
        "      split_dict[x] = sub_ran_keys[i]\n",
        "      i = i + 1\n",
        "      \n",
        "    neg_seq = ''.join(list(split_dict.values())) # convert back to a single string \n",
        "    negative_sequences.append(neg_seq) #append to return list\n",
        "\n",
        "  return negative_sequences"
      ],
      "execution_count": null,
      "outputs": []
    },
    {
      "cell_type": "markdown",
      "metadata": {
        "id": "h6BO_mQgD8fU"
      },
      "source": [
        "## Negative Dataset for Human"
      ]
    },
    {
      "cell_type": "code",
      "metadata": {
        "colab": {
          "base_uri": "https://localhost:8080/",
          "height": 507
        },
        "id": "vqTJ7Ho1D8fV",
        "outputId": "c07ee956-7ba7-47cf-d177-2e9779c9f160"
      },
      "source": [
        "neg_sequences = CreateNegativeDataSet(human_df)\n",
        "negative_human_df = pd.DataFrame(neg_sequences)\n",
        "header = ['Sequence']\n",
        "negative_human_df.columns = header[:len(negative_human_df.columns)]\n",
        "negative_human_df"
      ],
      "execution_count": null,
      "outputs": [
        {
          "output_type": "execute_result",
          "data": {
            "text/html": [
              "<div>\n",
              "<style scoped>\n",
              "    .dataframe tbody tr th:only-of-type {\n",
              "        vertical-align: middle;\n",
              "    }\n",
              "\n",
              "    .dataframe tbody tr th {\n",
              "        vertical-align: top;\n",
              "    }\n",
              "\n",
              "    .dataframe thead th {\n",
              "        text-align: right;\n",
              "    }\n",
              "</style>\n",
              "<table border=\"1\" class=\"dataframe\">\n",
              "  <thead>\n",
              "    <tr style=\"text-align: right;\">\n",
              "      <th></th>\n",
              "      <th>Sequence</th>\n",
              "    </tr>\n",
              "  </thead>\n",
              "  <tbody>\n",
              "    <tr>\n",
              "      <th>0</th>\n",
              "      <td>GGACAGACTTAGCCCTGGGCTATGGGTGGTGGTGGGGGTGAGGGAG...</td>\n",
              "    </tr>\n",
              "    <tr>\n",
              "      <th>1</th>\n",
              "      <td>ATCGAGGCGAGAGAGCGGAGCTCCGCCCCTTAGGGGGGTTCTCGCT...</td>\n",
              "    </tr>\n",
              "    <tr>\n",
              "      <th>2</th>\n",
              "      <td>CGCGCTGGGCCAGTAGGACAAATCTCTCGAAATCTCAGTTGGCGCT...</td>\n",
              "    </tr>\n",
              "    <tr>\n",
              "      <th>3</th>\n",
              "      <td>GACCTCCTGTGGTGCTTTCAGTTAGAGCCACTCCCTTTACAAACAA...</td>\n",
              "    </tr>\n",
              "    <tr>\n",
              "      <th>4</th>\n",
              "      <td>AATATCTAGGCTTTTGTAATGTTATCATCTTAAAAGGCAAATTGTC...</td>\n",
              "    </tr>\n",
              "    <tr>\n",
              "      <th>...</th>\n",
              "      <td>...</td>\n",
              "    </tr>\n",
              "    <tr>\n",
              "      <th>26528</th>\n",
              "      <td>AGTAATAATCGCTATTTATATAAGATAGGGCTACCGGCTCTGATGC...</td>\n",
              "    </tr>\n",
              "    <tr>\n",
              "      <th>26529</th>\n",
              "      <td>AATTAAACGGTAGTTTTCACTGAACCCTGGAATGAGAAAAAAAAGG...</td>\n",
              "    </tr>\n",
              "    <tr>\n",
              "      <th>26530</th>\n",
              "      <td>GGAGAGGCTCCCCAACTTACCACCCCTTCCGGAGAGGGGACATAGC...</td>\n",
              "    </tr>\n",
              "    <tr>\n",
              "      <th>26531</th>\n",
              "      <td>CGCACAGAGCATTCCGTCACCCCAGGCCCAAAGGTCCCCACTTGAA...</td>\n",
              "    </tr>\n",
              "    <tr>\n",
              "      <th>26532</th>\n",
              "      <td>ACACTGTCTGCCTGGGGGCATCCCCCAGGACTCCTGGTCTCCCTCC...</td>\n",
              "    </tr>\n",
              "  </tbody>\n",
              "</table>\n",
              "<p>26533 rows × 1 columns</p>\n",
              "</div>"
            ],
            "text/plain": [
              "                                                Sequence\n",
              "0      GGACAGACTTAGCCCTGGGCTATGGGTGGTGGTGGGGGTGAGGGAG...\n",
              "1      ATCGAGGCGAGAGAGCGGAGCTCCGCCCCTTAGGGGGGTTCTCGCT...\n",
              "2      CGCGCTGGGCCAGTAGGACAAATCTCTCGAAATCTCAGTTGGCGCT...\n",
              "3      GACCTCCTGTGGTGCTTTCAGTTAGAGCCACTCCCTTTACAAACAA...\n",
              "4      AATATCTAGGCTTTTGTAATGTTATCATCTTAAAAGGCAAATTGTC...\n",
              "...                                                  ...\n",
              "26528  AGTAATAATCGCTATTTATATAAGATAGGGCTACCGGCTCTGATGC...\n",
              "26529  AATTAAACGGTAGTTTTCACTGAACCCTGGAATGAGAAAAAAAAGG...\n",
              "26530  GGAGAGGCTCCCCAACTTACCACCCCTTCCGGAGAGGGGACATAGC...\n",
              "26531  CGCACAGAGCATTCCGTCACCCCAGGCCCAAAGGTCCCCACTTGAA...\n",
              "26532  ACACTGTCTGCCTGGGGGCATCCCCCAGGACTCCTGGTCTCCCTCC...\n",
              "\n",
              "[26533 rows x 1 columns]"
            ]
          },
          "metadata": {
            "tags": []
          },
          "execution_count": 8
        }
      ]
    },
    {
      "cell_type": "markdown",
      "metadata": {
        "id": "2t7QmZ6CD8fV"
      },
      "source": [
        "## Negative Dataset for Mouse"
      ]
    },
    {
      "cell_type": "code",
      "metadata": {
        "colab": {
          "base_uri": "https://localhost:8080/",
          "height": 507
        },
        "id": "_ZsGKFf9D8fW",
        "outputId": "4e32651e-ac9a-44c4-ea0f-539679568b49"
      },
      "source": [
        "neg_sequences = CreateNegativeDataSet(mouse_df)\n",
        "negative_mouse_df = pd.DataFrame(neg_sequences)\n",
        "header = ['Sequence']\n",
        "negative_mouse_df.columns = header[:len(negative_mouse_df.columns)]\n",
        "negative_mouse_df"
      ],
      "execution_count": null,
      "outputs": [
        {
          "output_type": "execute_result",
          "data": {
            "text/html": [
              "<div>\n",
              "<style scoped>\n",
              "    .dataframe tbody tr th:only-of-type {\n",
              "        vertical-align: middle;\n",
              "    }\n",
              "\n",
              "    .dataframe tbody tr th {\n",
              "        vertical-align: top;\n",
              "    }\n",
              "\n",
              "    .dataframe thead th {\n",
              "        text-align: right;\n",
              "    }\n",
              "</style>\n",
              "<table border=\"1\" class=\"dataframe\">\n",
              "  <thead>\n",
              "    <tr style=\"text-align: right;\">\n",
              "      <th></th>\n",
              "      <th>Sequence</th>\n",
              "    </tr>\n",
              "  </thead>\n",
              "  <tbody>\n",
              "    <tr>\n",
              "      <th>0</th>\n",
              "      <td>AGCCACGTGAGTCGCTGGGCTATGGGTGGTGGTGGGGGTGAGGGAG...</td>\n",
              "    </tr>\n",
              "    <tr>\n",
              "      <th>1</th>\n",
              "      <td>CGGAGCTCCGCCCCTGCCACCGGAGCCGCGTAGGGGGGTTCTCGCT...</td>\n",
              "    </tr>\n",
              "    <tr>\n",
              "      <th>2</th>\n",
              "      <td>GGAGCCTGGTAGGGAGGACAAATCTCTCGAAATCTCAGTTGGCGCT...</td>\n",
              "    </tr>\n",
              "    <tr>\n",
              "      <th>3</th>\n",
              "      <td>GACCTCCTGTGGTGCGAGAACCCTGAGGTGCTCCCTTTACAAACAG...</td>\n",
              "    </tr>\n",
              "    <tr>\n",
              "      <th>4</th>\n",
              "      <td>AATATCTAGGCTTTTAAAATAAGGTGAAAATAAAAGGCAAATTGTC...</td>\n",
              "    </tr>\n",
              "    <tr>\n",
              "      <th>...</th>\n",
              "      <td>...</td>\n",
              "    </tr>\n",
              "    <tr>\n",
              "      <th>26528</th>\n",
              "      <td>TTAGCCTCTAGGCCTCAGTAGTCCCAGGGAAGTAATAATCGCTATT...</td>\n",
              "    </tr>\n",
              "    <tr>\n",
              "      <th>26529</th>\n",
              "      <td>GCGCCCCCTCCGAAGGGAAAAAAAAATAAAAATGAGAAAAAAAAGG...</td>\n",
              "    </tr>\n",
              "    <tr>\n",
              "      <th>26530</th>\n",
              "      <td>GCCCTGCGAGGGCCTGTTGGCCGGGTGTGGGGAGAGGGGACATAGC...</td>\n",
              "    </tr>\n",
              "    <tr>\n",
              "      <th>26531</th>\n",
              "      <td>CGCTCTCCAGCCCACCAGCTCTGGGCGACCGAGCTGCGAACTGAGC...</td>\n",
              "    </tr>\n",
              "    <tr>\n",
              "      <th>26532</th>\n",
              "      <td>GGGCATCCCCCAGGAATGAGGGGTGAGGCTACCCGGTCCCTCCCTG...</td>\n",
              "    </tr>\n",
              "  </tbody>\n",
              "</table>\n",
              "<p>26533 rows × 1 columns</p>\n",
              "</div>"
            ],
            "text/plain": [
              "                                                Sequence\n",
              "0      AGCCACGTGAGTCGCTGGGCTATGGGTGGTGGTGGGGGTGAGGGAG...\n",
              "1      CGGAGCTCCGCCCCTGCCACCGGAGCCGCGTAGGGGGGTTCTCGCT...\n",
              "2      GGAGCCTGGTAGGGAGGACAAATCTCTCGAAATCTCAGTTGGCGCT...\n",
              "3      GACCTCCTGTGGTGCGAGAACCCTGAGGTGCTCCCTTTACAAACAG...\n",
              "4      AATATCTAGGCTTTTAAAATAAGGTGAAAATAAAAGGCAAATTGTC...\n",
              "...                                                  ...\n",
              "26528  TTAGCCTCTAGGCCTCAGTAGTCCCAGGGAAGTAATAATCGCTATT...\n",
              "26529  GCGCCCCCTCCGAAGGGAAAAAAAAATAAAAATGAGAAAAAAAAGG...\n",
              "26530  GCCCTGCGAGGGCCTGTTGGCCGGGTGTGGGGAGAGGGGACATAGC...\n",
              "26531  CGCTCTCCAGCCCACCAGCTCTGGGCGACCGAGCTGCGAACTGAGC...\n",
              "26532  GGGCATCCCCCAGGAATGAGGGGTGAGGCTACCCGGTCCCTCCCTG...\n",
              "\n",
              "[26533 rows x 1 columns]"
            ]
          },
          "metadata": {
            "tags": []
          },
          "execution_count": 9
        }
      ]
    },
    {
      "cell_type": "markdown",
      "metadata": {
        "id": "YeHjm4v6D8fW"
      },
      "source": [
        "# Encode Datasets (One Hot)\n",
        "from https://www.kaggle.com/thomasnelson/working-with-dna-sequence-data-for-mlb"
      ]
    },
    {
      "cell_type": "code",
      "metadata": {
        "id": "xzIgATktD8fX"
      },
      "source": [
        "def string_to_array(my_string):\n",
        "  ''' Function to convert a DNA sequence string to a numpy array converts to \n",
        "  lower case, changes any non 'acgt' characters to 'n' '''\n",
        "\n",
        "  my_string = my_string.lower()\n",
        "  my_string = re.sub('[^acgt]', 'z', my_string)\n",
        "  my_array = np.array(list(my_string))\n",
        "  return my_array\n",
        "\n",
        "def one_hot_encoder(my_array):\n",
        "  ''' function to one-hot encode a DNA sequence string non 'acgt' bases (n) \n",
        "  are 0000 returns a L x 4 numpy array'''\n",
        "\n",
        "  # create a label encoder with 'acgtn' alphabet\n",
        "  label_encoder = LabelEncoder()\n",
        "  label_encoder.fit(np.array(['a','c','g','t','z']))\n",
        "  integer_encoded = label_encoder.transform(my_array)\n",
        "\n",
        "  onehot_encoder = OneHotEncoder(sparse=False, dtype=float, categories=[range(5)])\n",
        "  integer_encoded = integer_encoded.reshape(len(integer_encoded), 1)\n",
        "  onehot_encoded = onehot_encoder.fit_transform(integer_encoded)\n",
        "  onehot_encoded = np.delete(onehot_encoded, -1, 1)\n",
        "  return onehot_encoded"
      ],
      "execution_count": null,
      "outputs": []
    },
    {
      "cell_type": "markdown",
      "metadata": {
        "id": "WG90qcCUqALr"
      },
      "source": [
        "## Human Encoding"
      ]
    },
    {
      "cell_type": "code",
      "metadata": {
        "colab": {
          "base_uri": "https://localhost:8080/"
        },
        "id": "fdBRwmYaD8fX",
        "outputId": "84caaf1d-e66e-4b95-ed3d-0f95a6a6e75e"
      },
      "source": [
        "human_vector = list()\n",
        "sequence = human_df['Sequence'].tolist()\n",
        "\n",
        "for current_sequence in sequence:\n",
        "  human_vector.append(one_hot_encoder(string_to_array(current_sequence)))\n",
        "human_vector = np.array(human_vector) # convert to numpy array\n",
        "\n",
        "print(\"HUMAN\\nlen:\", len(human_vector))\n",
        "print(type(human_vector[0]))\n",
        "human_vector[0]"
      ],
      "execution_count": null,
      "outputs": [
        {
          "output_type": "stream",
          "text": [
            "HUMAN\n",
            "len: 26533\n",
            "<class 'numpy.ndarray'>\n"
          ],
          "name": "stdout"
        },
        {
          "output_type": "execute_result",
          "data": {
            "text/plain": [
              "array([[1., 0., 0., 0.],\n",
              "       [0., 0., 1., 0.],\n",
              "       [0., 1., 0., 0.],\n",
              "       ...,\n",
              "       [0., 0., 0., 1.],\n",
              "       [1., 0., 0., 0.],\n",
              "       [0., 1., 0., 0.]])"
            ]
          },
          "metadata": {
            "tags": []
          },
          "execution_count": 11
        }
      ]
    },
    {
      "cell_type": "markdown",
      "metadata": {
        "id": "6UGug-3VqGn1"
      },
      "source": [
        "## Negative Human Encoding"
      ]
    },
    {
      "cell_type": "code",
      "metadata": {
        "colab": {
          "base_uri": "https://localhost:8080/"
        },
        "id": "-czlH7LLmudj",
        "outputId": "4c8f8841-8fc0-4cc2-f3c3-e161eeecf82e"
      },
      "source": [
        "negative_human_vector = list()\n",
        "sequence = negative_human_df['Sequence'].tolist()\n",
        "\n",
        "for current_sequence in sequence:\n",
        "  negative_human_vector.append(one_hot_encoder(string_to_array(current_sequence)))\n",
        "negative_human_vector = np.array(negative_human_vector)\n",
        "\n",
        "print(\"\\nNEGATIVE HUMAN\\nlen:\", len(negative_human_vector))\n",
        "print(type(negative_human_vector[0]))\n",
        "negative_human_vector[0]"
      ],
      "execution_count": null,
      "outputs": [
        {
          "output_type": "stream",
          "text": [
            "\n",
            "NEGATIVE HUMAN\n",
            "len: 26533\n",
            "<class 'numpy.ndarray'>\n"
          ],
          "name": "stdout"
        },
        {
          "output_type": "execute_result",
          "data": {
            "text/plain": [
              "array([[0., 0., 1., 0.],\n",
              "       [0., 0., 1., 0.],\n",
              "       [1., 0., 0., 0.],\n",
              "       ...,\n",
              "       [0., 0., 0., 1.],\n",
              "       [1., 0., 0., 0.],\n",
              "       [0., 1., 0., 0.]])"
            ]
          },
          "metadata": {
            "tags": []
          },
          "execution_count": 12
        }
      ]
    },
    {
      "cell_type": "markdown",
      "metadata": {
        "id": "ZDoO6QTEqJ_Q"
      },
      "source": [
        "## Mouse Encoding"
      ]
    },
    {
      "cell_type": "code",
      "metadata": {
        "colab": {
          "base_uri": "https://localhost:8080/"
        },
        "id": "PIygaIPaD8fX",
        "outputId": "e8b6e474-fcf7-42fe-f895-36a22ac6d23a"
      },
      "source": [
        "mouse_vector = list()\n",
        "sequence = mouse_df['Sequence'].tolist()\n",
        "\n",
        "for current_sequence in sequence:\n",
        "  mouse_vector.append(one_hot_encoder(string_to_array(current_sequence)))\n",
        "mouse_vector = np.array(mouse_vector)\n",
        "\n",
        "print(\"MOUSE\\nlen:\", len(mouse_vector))\n",
        "print(type(mouse_vector[0]))\n",
        "mouse_vector[0]"
      ],
      "execution_count": null,
      "outputs": [
        {
          "output_type": "stream",
          "text": [
            "MOUSE\n",
            "len: 26533\n",
            "<class 'numpy.ndarray'>\n"
          ],
          "name": "stdout"
        },
        {
          "output_type": "execute_result",
          "data": {
            "text/plain": [
              "array([[1., 0., 0., 0.],\n",
              "       [0., 0., 1., 0.],\n",
              "       [0., 1., 0., 0.],\n",
              "       ...,\n",
              "       [0., 0., 0., 1.],\n",
              "       [1., 0., 0., 0.],\n",
              "       [0., 1., 0., 0.]])"
            ]
          },
          "metadata": {
            "tags": []
          },
          "execution_count": 13
        }
      ]
    },
    {
      "cell_type": "markdown",
      "metadata": {
        "id": "0hjnRfgWqLu6"
      },
      "source": [
        "## Negative Mouse Encoding"
      ]
    },
    {
      "cell_type": "code",
      "metadata": {
        "colab": {
          "base_uri": "https://localhost:8080/"
        },
        "id": "IDlQqt43nqmn",
        "outputId": "ed090166-69c1-4436-dc95-8a040533985f"
      },
      "source": [
        "negative_mouse_vector = list()\n",
        "sequence = negative_mouse_df['Sequence'].tolist()\n",
        "\n",
        "for current_sequence in sequence:\n",
        "  negative_mouse_vector.append(one_hot_encoder(string_to_array(current_sequence)))\n",
        "negative_mouse_vector = np.array(negative_mouse_vector)\n",
        "\n",
        "print(\"\\nNEGATIVE MOUSE\\nlen:\", len(negative_mouse_vector))\n",
        "print(type(negative_mouse_vector[0]))\n",
        "negative_mouse_vector[0]"
      ],
      "execution_count": null,
      "outputs": [
        {
          "output_type": "stream",
          "text": [
            "\n",
            "NEGATIVE MOUSE\n",
            "len: 26533\n",
            "<class 'numpy.ndarray'>\n"
          ],
          "name": "stdout"
        },
        {
          "output_type": "execute_result",
          "data": {
            "text/plain": [
              "array([[1., 0., 0., 0.],\n",
              "       [0., 0., 1., 0.],\n",
              "       [0., 1., 0., 0.],\n",
              "       ...,\n",
              "       [0., 0., 0., 1.],\n",
              "       [1., 0., 0., 0.],\n",
              "       [0., 1., 0., 0.]])"
            ]
          },
          "metadata": {
            "tags": []
          },
          "execution_count": 14
        }
      ]
    },
    {
      "cell_type": "markdown",
      "metadata": {
        "id": "uqTGO87ZD8fY"
      },
      "source": [
        "# Combine Human and Mouse Datasets"
      ]
    },
    {
      "cell_type": "markdown",
      "metadata": {
        "id": "q6ih_1P7_B5j"
      },
      "source": [
        "## Test Set"
      ]
    },
    {
      "cell_type": "code",
      "metadata": {
        "id": "jYCd90wc_VI9"
      },
      "source": [
        "# keep 10% of dataset for testing 5% human and 5% mouse\n",
        "length = len(human_vector)\n",
        "test_split = len(human_vector)-int(length*0.05)"
      ],
      "execution_count": null,
      "outputs": []
    },
    {
      "cell_type": "code",
      "metadata": {
        "colab": {
          "base_uri": "https://localhost:8080/"
        },
        "id": "4v3zdKCP_BVk",
        "outputId": "ea5ff210-6b25-43f7-df50-2384e9659dd7"
      },
      "source": [
        "X_test_human = human_vector[test_split:, :, :]\n",
        "y_test_human = np.array([1]*len(X_test_human))\n",
        "\n",
        "X_test_negative_human = negative_human_vector[test_split:, :, :]\n",
        "y_test_negative_human = np.array([0]*len(X_test_negative_human))\n",
        "\n",
        "X_test_human_comb = np.concatenate((X_test_human, X_test_negative_human), axis=0)\n",
        "y_test_human_comb = np.concatenate((y_test_human, y_test_negative_human), axis=0)\n",
        "\n",
        "print(\"Test human input shape:\", X_test_human.shape, \"Test human target shape:\", y_test_human.shape)"
      ],
      "execution_count": null,
      "outputs": [
        {
          "output_type": "stream",
          "text": [
            "Test human input shape: (1326, 300, 4) Test human target shape: (1326,)\n"
          ],
          "name": "stdout"
        }
      ]
    },
    {
      "cell_type": "code",
      "metadata": {
        "colab": {
          "base_uri": "https://localhost:8080/"
        },
        "id": "xMRc4edh_Jdo",
        "outputId": "a5989379-e752-497f-a328-3d95accaa1b3"
      },
      "source": [
        "X_test_mouse = mouse_vector[test_split:, :, :]\n",
        "y_test_mouse = np.array([1]*len(X_test_mouse))\n",
        "\n",
        "X_test_negative_mouse = negative_mouse_vector[test_split:, :, :]\n",
        "y_test_negative_mouse = np.array([0]*len(X_test_negative_mouse))\n",
        "\n",
        "X_test_mouse_comb = np.concatenate((X_test_mouse, X_test_negative_mouse), axis=0)\n",
        "y_test_mouse_comb = np.concatenate((y_test_mouse, y_test_negative_mouse), axis=0)\n",
        "\n",
        "print(\"Test mouse input shape:\", X_test_mouse.shape, \"Test mouse target shape:\", y_test_mouse.shape)"
      ],
      "execution_count": null,
      "outputs": [
        {
          "output_type": "stream",
          "text": [
            "Test mouse input shape: (1326, 300, 4) Test mouse target shape: (1326,)\n"
          ],
          "name": "stdout"
        }
      ]
    },
    {
      "cell_type": "markdown",
      "metadata": {
        "id": "eF0sCmN__i1S"
      },
      "source": [
        "## Training Set"
      ]
    },
    {
      "cell_type": "code",
      "metadata": {
        "colab": {
          "base_uri": "https://localhost:8080/"
        },
        "id": "oMvwaz5gD8fY",
        "outputId": "fead16af-f02c-41e6-9942-6a0a6cc53c06"
      },
      "source": [
        "# split off the test set samples\n",
        "X_train_human = human_vector[:test_split, :, :] \n",
        "X_train_negative_human = negative_human_vector[:test_split, :, :]\n",
        "\n",
        "X_train_mouse = mouse_vector[:test_split, :, :]\n",
        "X_train_negative_mouse = negative_mouse_vector[:test_split, :, :]\n",
        "\n",
        "# combine all inputs and targets in to respective np arrays\n",
        "X_train = np.concatenate((X_train_human, X_train_negative_human, X_train_mouse, X_train_negative_mouse), axis=0)\n",
        "y_train = np.concatenate(([1]*len(X_train_human), [0]*len(X_train_negative_human ), [1]*len(X_train_mouse), [0]*len(X_train_negative_mouse)), axis=0)\n",
        "y_train = y_train.reshape(-1,1)\n",
        "\n",
        "# shuffle \n",
        "X_train, y_train = shuffle(X_train, y_train, random_state=42)\n",
        "\n",
        "print(\"Shape of combined human and mouse inputs:\", X_train.shape, \"\\nShape of combined human and mouse targets:\", y_train.shape)"
      ],
      "execution_count": null,
      "outputs": [
        {
          "output_type": "stream",
          "text": [
            "Shape of combined human and mouse inputs: (100828, 300, 4) \n",
            "Shape of combined human and mouse targets: (100828, 1)\n"
          ],
          "name": "stdout"
        }
      ]
    },
    {
      "cell_type": "markdown",
      "metadata": {
        "id": "zl7_XvEcQdPV"
      },
      "source": [
        "# Config TPU\n",
        "\n"
      ]
    },
    {
      "cell_type": "code",
      "metadata": {
        "colab": {
          "base_uri": "https://localhost:8080/"
        },
        "id": "l8m94mEBQgW1",
        "outputId": "c6494dc1-bb3e-4189-c617-93d1a678f8c9"
      },
      "source": [
        "tf.keras.backend.clear_session()\n",
        "resolver = tf.distribute.cluster_resolver.TPUClusterResolver(tpu='grpc://' + os.environ['COLAB_TPU_ADDR'])\n",
        "tf.config.experimental_connect_to_cluster(resolver)\n",
        "tf.tpu.experimental.initialize_tpu_system(resolver)\n",
        "strategy = tf.distribute.TPUStrategy(resolver)"
      ],
      "execution_count": null,
      "outputs": [
        {
          "output_type": "stream",
          "text": [
            "INFO:tensorflow:Initializing the TPU system: grpc://10.125.235.210:8470\n"
          ],
          "name": "stdout"
        },
        {
          "output_type": "stream",
          "text": [
            "INFO:tensorflow:Initializing the TPU system: grpc://10.125.235.210:8470\n"
          ],
          "name": "stderr"
        },
        {
          "output_type": "stream",
          "text": [
            "INFO:tensorflow:Clearing out eager caches\n"
          ],
          "name": "stdout"
        },
        {
          "output_type": "stream",
          "text": [
            "INFO:tensorflow:Clearing out eager caches\n"
          ],
          "name": "stderr"
        },
        {
          "output_type": "stream",
          "text": [
            "INFO:tensorflow:Finished initializing TPU system.\n"
          ],
          "name": "stdout"
        },
        {
          "output_type": "stream",
          "text": [
            "INFO:tensorflow:Finished initializing TPU system.\n"
          ],
          "name": "stderr"
        },
        {
          "output_type": "stream",
          "text": [
            "INFO:tensorflow:Found TPU system:\n"
          ],
          "name": "stdout"
        },
        {
          "output_type": "stream",
          "text": [
            "INFO:tensorflow:Found TPU system:\n"
          ],
          "name": "stderr"
        },
        {
          "output_type": "stream",
          "text": [
            "INFO:tensorflow:*** Num TPU Cores: 8\n"
          ],
          "name": "stdout"
        },
        {
          "output_type": "stream",
          "text": [
            "INFO:tensorflow:*** Num TPU Cores: 8\n"
          ],
          "name": "stderr"
        },
        {
          "output_type": "stream",
          "text": [
            "INFO:tensorflow:*** Num TPU Workers: 1\n"
          ],
          "name": "stdout"
        },
        {
          "output_type": "stream",
          "text": [
            "INFO:tensorflow:*** Num TPU Workers: 1\n"
          ],
          "name": "stderr"
        },
        {
          "output_type": "stream",
          "text": [
            "INFO:tensorflow:*** Num TPU Cores Per Worker: 8\n"
          ],
          "name": "stdout"
        },
        {
          "output_type": "stream",
          "text": [
            "INFO:tensorflow:*** Num TPU Cores Per Worker: 8\n"
          ],
          "name": "stderr"
        },
        {
          "output_type": "stream",
          "text": [
            "INFO:tensorflow:*** Available Device: _DeviceAttributes(/job:localhost/replica:0/task:0/device:CPU:0, CPU, 0, 0)\n"
          ],
          "name": "stdout"
        },
        {
          "output_type": "stream",
          "text": [
            "INFO:tensorflow:*** Available Device: _DeviceAttributes(/job:localhost/replica:0/task:0/device:CPU:0, CPU, 0, 0)\n"
          ],
          "name": "stderr"
        },
        {
          "output_type": "stream",
          "text": [
            "INFO:tensorflow:*** Available Device: _DeviceAttributes(/job:worker/replica:0/task:0/device:CPU:0, CPU, 0, 0)\n"
          ],
          "name": "stdout"
        },
        {
          "output_type": "stream",
          "text": [
            "INFO:tensorflow:*** Available Device: _DeviceAttributes(/job:worker/replica:0/task:0/device:CPU:0, CPU, 0, 0)\n"
          ],
          "name": "stderr"
        },
        {
          "output_type": "stream",
          "text": [
            "INFO:tensorflow:*** Available Device: _DeviceAttributes(/job:worker/replica:0/task:0/device:TPU:0, TPU, 0, 0)\n"
          ],
          "name": "stdout"
        },
        {
          "output_type": "stream",
          "text": [
            "INFO:tensorflow:*** Available Device: _DeviceAttributes(/job:worker/replica:0/task:0/device:TPU:0, TPU, 0, 0)\n"
          ],
          "name": "stderr"
        },
        {
          "output_type": "stream",
          "text": [
            "INFO:tensorflow:*** Available Device: _DeviceAttributes(/job:worker/replica:0/task:0/device:TPU:1, TPU, 0, 0)\n"
          ],
          "name": "stdout"
        },
        {
          "output_type": "stream",
          "text": [
            "INFO:tensorflow:*** Available Device: _DeviceAttributes(/job:worker/replica:0/task:0/device:TPU:1, TPU, 0, 0)\n"
          ],
          "name": "stderr"
        },
        {
          "output_type": "stream",
          "text": [
            "INFO:tensorflow:*** Available Device: _DeviceAttributes(/job:worker/replica:0/task:0/device:TPU:2, TPU, 0, 0)\n"
          ],
          "name": "stdout"
        },
        {
          "output_type": "stream",
          "text": [
            "INFO:tensorflow:*** Available Device: _DeviceAttributes(/job:worker/replica:0/task:0/device:TPU:2, TPU, 0, 0)\n"
          ],
          "name": "stderr"
        },
        {
          "output_type": "stream",
          "text": [
            "INFO:tensorflow:*** Available Device: _DeviceAttributes(/job:worker/replica:0/task:0/device:TPU:3, TPU, 0, 0)\n"
          ],
          "name": "stdout"
        },
        {
          "output_type": "stream",
          "text": [
            "INFO:tensorflow:*** Available Device: _DeviceAttributes(/job:worker/replica:0/task:0/device:TPU:3, TPU, 0, 0)\n"
          ],
          "name": "stderr"
        },
        {
          "output_type": "stream",
          "text": [
            "INFO:tensorflow:*** Available Device: _DeviceAttributes(/job:worker/replica:0/task:0/device:TPU:4, TPU, 0, 0)\n"
          ],
          "name": "stdout"
        },
        {
          "output_type": "stream",
          "text": [
            "INFO:tensorflow:*** Available Device: _DeviceAttributes(/job:worker/replica:0/task:0/device:TPU:4, TPU, 0, 0)\n"
          ],
          "name": "stderr"
        },
        {
          "output_type": "stream",
          "text": [
            "INFO:tensorflow:*** Available Device: _DeviceAttributes(/job:worker/replica:0/task:0/device:TPU:5, TPU, 0, 0)\n"
          ],
          "name": "stdout"
        },
        {
          "output_type": "stream",
          "text": [
            "INFO:tensorflow:*** Available Device: _DeviceAttributes(/job:worker/replica:0/task:0/device:TPU:5, TPU, 0, 0)\n"
          ],
          "name": "stderr"
        },
        {
          "output_type": "stream",
          "text": [
            "INFO:tensorflow:*** Available Device: _DeviceAttributes(/job:worker/replica:0/task:0/device:TPU:6, TPU, 0, 0)\n"
          ],
          "name": "stdout"
        },
        {
          "output_type": "stream",
          "text": [
            "INFO:tensorflow:*** Available Device: _DeviceAttributes(/job:worker/replica:0/task:0/device:TPU:6, TPU, 0, 0)\n"
          ],
          "name": "stderr"
        },
        {
          "output_type": "stream",
          "text": [
            "INFO:tensorflow:*** Available Device: _DeviceAttributes(/job:worker/replica:0/task:0/device:TPU:7, TPU, 0, 0)\n"
          ],
          "name": "stdout"
        },
        {
          "output_type": "stream",
          "text": [
            "INFO:tensorflow:*** Available Device: _DeviceAttributes(/job:worker/replica:0/task:0/device:TPU:7, TPU, 0, 0)\n"
          ],
          "name": "stderr"
        },
        {
          "output_type": "stream",
          "text": [
            "INFO:tensorflow:*** Available Device: _DeviceAttributes(/job:worker/replica:0/task:0/device:TPU_SYSTEM:0, TPU_SYSTEM, 0, 0)\n"
          ],
          "name": "stdout"
        },
        {
          "output_type": "stream",
          "text": [
            "INFO:tensorflow:*** Available Device: _DeviceAttributes(/job:worker/replica:0/task:0/device:TPU_SYSTEM:0, TPU_SYSTEM, 0, 0)\n"
          ],
          "name": "stderr"
        },
        {
          "output_type": "stream",
          "text": [
            "INFO:tensorflow:*** Available Device: _DeviceAttributes(/job:worker/replica:0/task:0/device:XLA_CPU:0, XLA_CPU, 0, 0)\n"
          ],
          "name": "stdout"
        },
        {
          "output_type": "stream",
          "text": [
            "INFO:tensorflow:*** Available Device: _DeviceAttributes(/job:worker/replica:0/task:0/device:XLA_CPU:0, XLA_CPU, 0, 0)\n"
          ],
          "name": "stderr"
        }
      ]
    },
    {
      "cell_type": "markdown",
      "metadata": {
        "id": "2W_UgOYDD8fZ"
      },
      "source": [
        "# Build and Train"
      ]
    },
    {
      "cell_type": "code",
      "metadata": {
        "id": "GwOQCS_oD8fa"
      },
      "source": [
        "def build_model():\n",
        "    # input\n",
        "    input = tf.keras.layers.Input(shape=(300,4))\n",
        "\n",
        "    # conv 1\n",
        "    x = tf.keras.layers.Conv1D(filters=512, kernel_size=28, strides=1, activation='relu', padding='valid', kernel_regularizer=keras.regularizers.l2(1e-5))(input)\n",
        "    x = tf.keras.layers.BatchNormalization()(x)\n",
        "    x = tf.keras.layers.Dropout(rate=0.5)(x)\n",
        "\n",
        "    # conv 2\n",
        "    x = tf.keras.layers.Conv1D(filters=256, kernel_size=12, strides=2, activation='relu', padding='valid', kernel_regularizer=keras.regularizers.l2(1e-5))(x)\n",
        "    x = tf.keras.layers.BatchNormalization()(x)\n",
        "    x = tf.keras.layers.Dropout(rate=0.5)(x)\n",
        "\n",
        "    # conv 3\n",
        "    x = tf.keras.layers.Conv1D(filters=256, kernel_size=7, strides=2, activation='relu', padding='valid', kernel_regularizer=keras.regularizers.l2(1e-5))(x)\n",
        "    x = tf.keras.layers.BatchNormalization()(x)\n",
        "    x = tf.keras.layers.Dropout(rate=0.5)(x)\n",
        "\n",
        "    # bi-lstm\n",
        "    x = tf.keras.layers.Bidirectional(tf.keras.layers.LSTM(64, kernel_regularizer=keras.regularizers.l2(1e-5)))(x)\n",
        "    x = tf.keras.layers.Flatten()(x)\n",
        "\n",
        "    # fully conected\n",
        "    x = tf.keras.layers.Dense(128, activation='relu', kernel_regularizer=keras.regularizers.l2(1e-5))(x)\n",
        "    x = tf.keras.layers.Dropout(rate=0.5)(x)\n",
        "    x = tf.keras.layers.Dense(64, activation='relu', kernel_regularizer=keras.regularizers.l2(1e-5))(x)\n",
        "\n",
        "    # output\n",
        "    output = tf.keras.layers.Dense(1, activation='sigmoid')(x)\n",
        "\n",
        "    # model\n",
        "    model = tf.keras.models.Model(inputs=[input], outputs=[output], name='CBLPromoter')\n",
        "    return model"
      ],
      "execution_count": null,
      "outputs": []
    },
    {
      "cell_type": "code",
      "metadata": {
        "colab": {
          "base_uri": "https://localhost:8080/"
        },
        "id": "FH01zuQwqyd9",
        "outputId": "ff182092-ff14-4c66-abbe-017a392ce6a6"
      },
      "source": [
        "init_lr = 1e-4\n",
        "\n",
        "with strategy.scope():\n",
        "  model = build_model()\n",
        "  \n",
        "  model.compile(\n",
        "      loss=tf.keras.losses.BinaryCrossentropy(), \n",
        "      optimizer=tf.keras.optimizers.Adam(learning_rate=init_lr), \n",
        "      metrics=[tf.keras.metrics.BinaryAccuracy(), tf.keras.metrics.Precision(), tf.keras.metrics.Recall(),],\n",
        "  )\n",
        "\n",
        "model.summary()"
      ],
      "execution_count": null,
      "outputs": [
        {
          "output_type": "stream",
          "text": [
            "Model: \"CBLPromoter\"\n",
            "_________________________________________________________________\n",
            "Layer (type)                 Output Shape              Param #   \n",
            "=================================================================\n",
            "input_1 (InputLayer)         [(None, 300, 4)]          0         \n",
            "_________________________________________________________________\n",
            "conv1d (Conv1D)              (None, 273, 512)          57856     \n",
            "_________________________________________________________________\n",
            "batch_normalization (BatchNo (None, 273, 512)          2048      \n",
            "_________________________________________________________________\n",
            "dropout (Dropout)            (None, 273, 512)          0         \n",
            "_________________________________________________________________\n",
            "conv1d_1 (Conv1D)            (None, 131, 256)          1573120   \n",
            "_________________________________________________________________\n",
            "batch_normalization_1 (Batch (None, 131, 256)          1024      \n",
            "_________________________________________________________________\n",
            "dropout_1 (Dropout)          (None, 131, 256)          0         \n",
            "_________________________________________________________________\n",
            "conv1d_2 (Conv1D)            (None, 63, 256)           459008    \n",
            "_________________________________________________________________\n",
            "batch_normalization_2 (Batch (None, 63, 256)           1024      \n",
            "_________________________________________________________________\n",
            "dropout_2 (Dropout)          (None, 63, 256)           0         \n",
            "_________________________________________________________________\n",
            "bidirectional (Bidirectional (None, 128)               164352    \n",
            "_________________________________________________________________\n",
            "flatten (Flatten)            (None, 128)               0         \n",
            "_________________________________________________________________\n",
            "dense (Dense)                (None, 128)               16512     \n",
            "_________________________________________________________________\n",
            "dropout_3 (Dropout)          (None, 128)               0         \n",
            "_________________________________________________________________\n",
            "dense_1 (Dense)              (None, 64)                8256      \n",
            "_________________________________________________________________\n",
            "dense_2 (Dense)              (None, 1)                 65        \n",
            "=================================================================\n",
            "Total params: 2,283,265\n",
            "Trainable params: 2,281,217\n",
            "Non-trainable params: 2,048\n",
            "_________________________________________________________________\n"
          ],
          "name": "stdout"
        }
      ]
    },
    {
      "cell_type": "code",
      "metadata": {
        "colab": {
          "base_uri": "https://localhost:8080/"
        },
        "id": "Ct0lTqyHfOLn",
        "outputId": "391228e6-2bb1-4ac0-b84b-1d448166aada"
      },
      "source": [
        "history = model.fit(X_train, y_train, epochs=100, validation_split=0.1)"
      ],
      "execution_count": null,
      "outputs": [
        {
          "output_type": "stream",
          "text": [
            "Epoch 1/100\n",
            "2836/2836 [==============================] - 79s 24ms/step - loss: 0.7024 - binary_accuracy: 0.5368 - precision: 0.5364 - recall: 0.5497 - val_loss: 0.6880 - val_binary_accuracy: 0.5810 - val_precision: 0.5833 - val_recall: 0.5404\n",
            "Epoch 2/100\n",
            "2836/2836 [==============================] - 65s 23ms/step - loss: 0.6890 - binary_accuracy: 0.5764 - precision: 0.5805 - recall: 0.5537 - val_loss: 0.6769 - val_binary_accuracy: 0.5934 - val_precision: 0.6127 - val_recall: 0.4876\n",
            "Epoch 3/100\n",
            "2836/2836 [==============================] - 64s 23ms/step - loss: 0.6783 - binary_accuracy: 0.5964 - precision: 0.5997 - recall: 0.5819 - val_loss: 0.6664 - val_binary_accuracy: 0.6094 - val_precision: 0.6282 - val_recall: 0.5188\n",
            "Epoch 4/100\n",
            "2836/2836 [==============================] - 64s 23ms/step - loss: 0.6675 - binary_accuracy: 0.6139 - precision: 0.6168 - recall: 0.6037 - val_loss: 0.6576 - val_binary_accuracy: 0.6259 - val_precision: 0.6400 - val_recall: 0.5600\n",
            "Epoch 5/100\n",
            "2836/2836 [==============================] - 64s 23ms/step - loss: 0.6565 - binary_accuracy: 0.6278 - precision: 0.6276 - recall: 0.6305 - val_loss: 0.6442 - val_binary_accuracy: 0.6442 - val_precision: 0.6547 - val_recall: 0.5965\n",
            "Epoch 6/100\n",
            "2836/2836 [==============================] - 65s 23ms/step - loss: 0.6439 - binary_accuracy: 0.6449 - precision: 0.6441 - recall: 0.6493 - val_loss: 0.6374 - val_binary_accuracy: 0.6512 - val_precision: 0.6742 - val_recall: 0.5729\n",
            "Epoch 7/100\n",
            "2836/2836 [==============================] - 65s 23ms/step - loss: 0.6316 - binary_accuracy: 0.6598 - precision: 0.6581 - recall: 0.6668 - val_loss: 0.6211 - val_binary_accuracy: 0.6647 - val_precision: 0.6503 - val_recall: 0.6994\n",
            "Epoch 8/100\n",
            "2836/2836 [==============================] - 65s 23ms/step - loss: 0.6207 - binary_accuracy: 0.6686 - precision: 0.6648 - recall: 0.6814 - val_loss: 0.6160 - val_binary_accuracy: 0.6712 - val_precision: 0.6831 - val_recall: 0.6277\n",
            "Epoch 9/100\n",
            "2836/2836 [==============================] - 65s 23ms/step - loss: 0.6084 - binary_accuracy: 0.6797 - precision: 0.6720 - recall: 0.7036 - val_loss: 0.6166 - val_binary_accuracy: 0.6663 - val_precision: 0.6497 - val_recall: 0.7084\n",
            "Epoch 10/100\n",
            "2836/2836 [==============================] - 65s 23ms/step - loss: 0.5984 - binary_accuracy: 0.6902 - precision: 0.6814 - recall: 0.7156 - val_loss: 0.6090 - val_binary_accuracy: 0.6798 - val_precision: 0.6775 - val_recall: 0.6749\n",
            "Epoch 11/100\n",
            "2836/2836 [==============================] - 65s 23ms/step - loss: 0.5893 - binary_accuracy: 0.6973 - precision: 0.6878 - recall: 0.7238 - val_loss: 0.6014 - val_binary_accuracy: 0.6835 - val_precision: 0.6717 - val_recall: 0.7066\n",
            "Epoch 12/100\n",
            "2836/2836 [==============================] - 65s 23ms/step - loss: 0.5816 - binary_accuracy: 0.7058 - precision: 0.6952 - recall: 0.7339 - val_loss: 0.6019 - val_binary_accuracy: 0.6787 - val_precision: 0.6507 - val_recall: 0.7590\n",
            "Epoch 13/100\n",
            "2836/2836 [==============================] - 64s 22ms/step - loss: 0.5719 - binary_accuracy: 0.7129 - precision: 0.7000 - recall: 0.7461 - val_loss: 0.5960 - val_binary_accuracy: 0.6919 - val_precision: 0.6797 - val_recall: 0.7152\n",
            "Epoch 14/100\n",
            "2836/2836 [==============================] - 65s 23ms/step - loss: 0.5639 - binary_accuracy: 0.7190 - precision: 0.7071 - recall: 0.7487 - val_loss: 0.6006 - val_binary_accuracy: 0.6904 - val_precision: 0.6732 - val_recall: 0.7290\n",
            "Epoch 15/100\n",
            "2836/2836 [==============================] - 65s 23ms/step - loss: 0.5563 - binary_accuracy: 0.7247 - precision: 0.7098 - recall: 0.7612 - val_loss: 0.5884 - val_binary_accuracy: 0.6967 - val_precision: 0.6740 - val_recall: 0.7514\n",
            "Epoch 16/100\n",
            "2836/2836 [==============================] - 65s 23ms/step - loss: 0.5503 - binary_accuracy: 0.7306 - precision: 0.7158 - recall: 0.7656 - val_loss: 0.5871 - val_binary_accuracy: 0.7020 - val_precision: 0.6732 - val_recall: 0.7744\n",
            "Epoch 17/100\n",
            "2836/2836 [==============================] - 65s 23ms/step - loss: 0.5396 - binary_accuracy: 0.7396 - precision: 0.7248 - recall: 0.7733 - val_loss: 0.5946 - val_binary_accuracy: 0.6973 - val_precision: 0.6552 - val_recall: 0.8213\n",
            "Epoch 18/100\n",
            "2836/2836 [==============================] - 65s 23ms/step - loss: 0.5345 - binary_accuracy: 0.7411 - precision: 0.7249 - recall: 0.7778 - val_loss: 0.5793 - val_binary_accuracy: 0.7068 - val_precision: 0.6935 - val_recall: 0.7316\n",
            "Epoch 19/100\n",
            "2836/2836 [==============================] - 65s 23ms/step - loss: 0.5288 - binary_accuracy: 0.7459 - precision: 0.7283 - recall: 0.7853 - val_loss: 0.5748 - val_binary_accuracy: 0.7139 - val_precision: 0.6868 - val_recall: 0.7766\n",
            "Epoch 20/100\n",
            "2836/2836 [==============================] - 65s 23ms/step - loss: 0.5190 - binary_accuracy: 0.7537 - precision: 0.7371 - recall: 0.7895 - val_loss: 0.5685 - val_binary_accuracy: 0.7179 - val_precision: 0.7072 - val_recall: 0.7352\n",
            "Epoch 21/100\n",
            "2836/2836 [==============================] - 65s 23ms/step - loss: 0.5133 - binary_accuracy: 0.7576 - precision: 0.7402 - recall: 0.7944 - val_loss: 0.5710 - val_binary_accuracy: 0.7145 - val_precision: 0.6799 - val_recall: 0.8008\n",
            "Epoch 22/100\n",
            "2836/2836 [==============================] - 65s 23ms/step - loss: 0.5058 - binary_accuracy: 0.7626 - precision: 0.7432 - recall: 0.8032 - val_loss: 0.5641 - val_binary_accuracy: 0.7234 - val_precision: 0.7010 - val_recall: 0.7704\n",
            "Epoch 23/100\n",
            "2836/2836 [==============================] - 65s 23ms/step - loss: 0.4977 - binary_accuracy: 0.7682 - precision: 0.7487 - recall: 0.8081 - val_loss: 0.5705 - val_binary_accuracy: 0.7186 - val_precision: 0.6769 - val_recall: 0.8269\n",
            "Epoch 24/100\n",
            "2836/2836 [==============================] - 65s 23ms/step - loss: 0.4925 - binary_accuracy: 0.7722 - precision: 0.7541 - recall: 0.8084 - val_loss: 0.5608 - val_binary_accuracy: 0.7271 - val_precision: 0.6961 - val_recall: 0.7972\n",
            "Epoch 25/100\n",
            "2836/2836 [==============================] - 66s 23ms/step - loss: 0.4873 - binary_accuracy: 0.7769 - precision: 0.7589 - recall: 0.8124 - val_loss: 0.5630 - val_binary_accuracy: 0.7229 - val_precision: 0.6905 - val_recall: 0.7988\n",
            "Epoch 26/100\n",
            "2836/2836 [==============================] - 65s 23ms/step - loss: 0.4806 - binary_accuracy: 0.7824 - precision: 0.7648 - recall: 0.8161 - val_loss: 0.5623 - val_binary_accuracy: 0.7290 - val_precision: 0.6927 - val_recall: 0.8145\n",
            "Epoch 27/100\n",
            "2836/2836 [==============================] - 65s 23ms/step - loss: 0.4735 - binary_accuracy: 0.7862 - precision: 0.7681 - recall: 0.8206 - val_loss: 0.5659 - val_binary_accuracy: 0.7277 - val_precision: 0.6825 - val_recall: 0.8421\n",
            "Epoch 28/100\n",
            "2836/2836 [==============================] - 65s 23ms/step - loss: 0.4692 - binary_accuracy: 0.7894 - precision: 0.7714 - recall: 0.8231 - val_loss: 0.5551 - val_binary_accuracy: 0.7308 - val_precision: 0.6963 - val_recall: 0.8100\n",
            "Epoch 29/100\n",
            "2836/2836 [==============================] - 66s 23ms/step - loss: 0.4643 - binary_accuracy: 0.7937 - precision: 0.7755 - recall: 0.8274 - val_loss: 0.5480 - val_binary_accuracy: 0.7369 - val_precision: 0.7185 - val_recall: 0.7710\n",
            "Epoch 30/100\n",
            "2836/2836 [==============================] - 66s 23ms/step - loss: 0.4568 - binary_accuracy: 0.7984 - precision: 0.7820 - recall: 0.8281 - val_loss: 0.5591 - val_binary_accuracy: 0.7340 - val_precision: 0.6899 - val_recall: 0.8413\n",
            "Epoch 31/100\n",
            "2836/2836 [==============================] - 65s 23ms/step - loss: 0.4540 - binary_accuracy: 0.7998 - precision: 0.7821 - recall: 0.8317 - val_loss: 0.5540 - val_binary_accuracy: 0.7358 - val_precision: 0.6929 - val_recall: 0.8385\n",
            "Epoch 32/100\n",
            "2836/2836 [==============================] - 65s 23ms/step - loss: 0.4494 - binary_accuracy: 0.8039 - precision: 0.7876 - recall: 0.8328 - val_loss: 0.5498 - val_binary_accuracy: 0.7386 - val_precision: 0.7136 - val_recall: 0.7890\n",
            "Epoch 33/100\n",
            "2836/2836 [==============================] - 65s 23ms/step - loss: 0.4408 - binary_accuracy: 0.8076 - precision: 0.7902 - recall: 0.8382 - val_loss: 0.5544 - val_binary_accuracy: 0.7429 - val_precision: 0.7012 - val_recall: 0.8385\n",
            "Epoch 34/100\n",
            "2836/2836 [==============================] - 65s 23ms/step - loss: 0.4376 - binary_accuracy: 0.8120 - precision: 0.7949 - recall: 0.8415 - val_loss: 0.5421 - val_binary_accuracy: 0.7469 - val_precision: 0.7183 - val_recall: 0.8048\n",
            "Epoch 35/100\n",
            "2836/2836 [==============================] - 65s 23ms/step - loss: 0.4373 - binary_accuracy: 0.8107 - precision: 0.7951 - recall: 0.8375 - val_loss: 0.5398 - val_binary_accuracy: 0.7513 - val_precision: 0.7154 - val_recall: 0.8269\n",
            "Epoch 36/100\n",
            "2836/2836 [==============================] - 65s 23ms/step - loss: 0.4282 - binary_accuracy: 0.8164 - precision: 0.8008 - recall: 0.8429 - val_loss: 0.5475 - val_binary_accuracy: 0.7499 - val_precision: 0.7055 - val_recall: 0.8501\n",
            "Epoch 37/100\n",
            "2836/2836 [==============================] - 66s 23ms/step - loss: 0.4242 - binary_accuracy: 0.8211 - precision: 0.8051 - recall: 0.8477 - val_loss: 0.5370 - val_binary_accuracy: 0.7524 - val_precision: 0.7274 - val_recall: 0.8000\n",
            "Epoch 38/100\n",
            "2836/2836 [==============================] - 65s 23ms/step - loss: 0.4226 - binary_accuracy: 0.8210 - precision: 0.8054 - recall: 0.8470 - val_loss: 0.5416 - val_binary_accuracy: 0.7565 - val_precision: 0.7087 - val_recall: 0.8635\n",
            "Epoch 39/100\n",
            "2836/2836 [==============================] - 65s 23ms/step - loss: 0.4169 - binary_accuracy: 0.8250 - precision: 0.8090 - recall: 0.8514 - val_loss: 0.5459 - val_binary_accuracy: 0.7567 - val_precision: 0.7073 - val_recall: 0.8683\n",
            "Epoch 40/100\n",
            "2836/2836 [==============================] - 66s 23ms/step - loss: 0.4126 - binary_accuracy: 0.8269 - precision: 0.8118 - recall: 0.8517 - val_loss: 0.5394 - val_binary_accuracy: 0.7597 - val_precision: 0.7099 - val_recall: 0.8709\n",
            "Epoch 41/100\n",
            "2836/2836 [==============================] - 65s 23ms/step - loss: 0.4055 - binary_accuracy: 0.8312 - precision: 0.8161 - recall: 0.8556 - val_loss: 0.5345 - val_binary_accuracy: 0.7638 - val_precision: 0.7157 - val_recall: 0.8681\n",
            "Epoch 42/100\n",
            "2836/2836 [==============================] - 65s 23ms/step - loss: 0.4042 - binary_accuracy: 0.8338 - precision: 0.8201 - recall: 0.8557 - val_loss: 0.5199 - val_binary_accuracy: 0.7713 - val_precision: 0.7437 - val_recall: 0.8215\n",
            "Epoch 43/100\n",
            "2836/2836 [==============================] - 66s 23ms/step - loss: 0.3978 - binary_accuracy: 0.8369 - precision: 0.8243 - recall: 0.8568 - val_loss: 0.5270 - val_binary_accuracy: 0.7728 - val_precision: 0.7319 - val_recall: 0.8545\n",
            "Epoch 44/100\n",
            "2836/2836 [==============================] - 66s 23ms/step - loss: 0.3917 - binary_accuracy: 0.8402 - precision: 0.8285 - recall: 0.8584 - val_loss: 0.5257 - val_binary_accuracy: 0.7725 - val_precision: 0.7249 - val_recall: 0.8717\n",
            "Epoch 45/100\n",
            "2836/2836 [==============================] - 66s 23ms/step - loss: 0.3876 - binary_accuracy: 0.8413 - precision: 0.8284 - recall: 0.8613 - val_loss: 0.5169 - val_binary_accuracy: 0.7788 - val_precision: 0.7408 - val_recall: 0.8517\n",
            "Epoch 46/100\n",
            "2836/2836 [==============================] - 66s 23ms/step - loss: 0.3851 - binary_accuracy: 0.8441 - precision: 0.8313 - recall: 0.8639 - val_loss: 0.5113 - val_binary_accuracy: 0.7813 - val_precision: 0.7465 - val_recall: 0.8459\n",
            "Epoch 47/100\n",
            "2836/2836 [==============================] - 66s 23ms/step - loss: 0.3820 - binary_accuracy: 0.8451 - precision: 0.8316 - recall: 0.8657 - val_loss: 0.5188 - val_binary_accuracy: 0.7807 - val_precision: 0.7387 - val_recall: 0.8625\n",
            "Epoch 48/100\n",
            "2836/2836 [==============================] - 65s 23ms/step - loss: 0.3789 - binary_accuracy: 0.8477 - precision: 0.8354 - recall: 0.8664 - val_loss: 0.5189 - val_binary_accuracy: 0.7823 - val_precision: 0.7307 - val_recall: 0.8879\n",
            "Epoch 49/100\n",
            "2836/2836 [==============================] - 66s 23ms/step - loss: 0.3746 - binary_accuracy: 0.8503 - precision: 0.8389 - recall: 0.8673 - val_loss: 0.4993 - val_binary_accuracy: 0.7898 - val_precision: 0.7525 - val_recall: 0.8581\n",
            "Epoch 50/100\n",
            "2836/2836 [==============================] - 66s 23ms/step - loss: 0.3692 - binary_accuracy: 0.8551 - precision: 0.8425 - recall: 0.8738 - val_loss: 0.5031 - val_binary_accuracy: 0.7883 - val_precision: 0.7397 - val_recall: 0.8837\n",
            "Epoch 51/100\n",
            "2836/2836 [==============================] - 66s 23ms/step - loss: 0.3675 - binary_accuracy: 0.8541 - precision: 0.8405 - recall: 0.8745 - val_loss: 0.5071 - val_binary_accuracy: 0.7885 - val_precision: 0.7324 - val_recall: 0.9029\n",
            "Epoch 52/100\n",
            "2836/2836 [==============================] - 65s 23ms/step - loss: 0.3619 - binary_accuracy: 0.8571 - precision: 0.8458 - recall: 0.8738 - val_loss: 0.5102 - val_binary_accuracy: 0.7874 - val_precision: 0.7364 - val_recall: 0.8891\n",
            "Epoch 53/100\n",
            "2836/2836 [==============================] - 66s 23ms/step - loss: 0.3595 - binary_accuracy: 0.8592 - precision: 0.8478 - recall: 0.8759 - val_loss: 0.5077 - val_binary_accuracy: 0.7905 - val_precision: 0.7371 - val_recall: 0.8973\n",
            "Epoch 54/100\n",
            "2836/2836 [==============================] - 66s 23ms/step - loss: 0.3595 - binary_accuracy: 0.8601 - precision: 0.8478 - recall: 0.8783 - val_loss: 0.4987 - val_binary_accuracy: 0.7964 - val_precision: 0.7431 - val_recall: 0.9003\n",
            "Epoch 55/100\n",
            "2836/2836 [==============================] - 66s 23ms/step - loss: 0.3532 - binary_accuracy: 0.8628 - precision: 0.8513 - recall: 0.8795 - val_loss: 0.4873 - val_binary_accuracy: 0.8046 - val_precision: 0.7623 - val_recall: 0.8801\n",
            "Epoch 56/100\n",
            "2836/2836 [==============================] - 66s 23ms/step - loss: 0.3506 - binary_accuracy: 0.8637 - precision: 0.8530 - recall: 0.8792 - val_loss: 0.5039 - val_binary_accuracy: 0.7944 - val_precision: 0.7363 - val_recall: 0.9115\n",
            "Epoch 57/100\n",
            "2836/2836 [==============================] - 65s 23ms/step - loss: 0.3488 - binary_accuracy: 0.8661 - precision: 0.8552 - recall: 0.8817 - val_loss: 0.4890 - val_binary_accuracy: 0.8029 - val_precision: 0.7567 - val_recall: 0.8877\n",
            "Epoch 58/100\n",
            "2836/2836 [==============================] - 65s 23ms/step - loss: 0.3451 - binary_accuracy: 0.8668 - precision: 0.8562 - recall: 0.8820 - val_loss: 0.4961 - val_binary_accuracy: 0.8036 - val_precision: 0.7600 - val_recall: 0.8823\n",
            "Epoch 59/100\n",
            "2836/2836 [==============================] - 65s 23ms/step - loss: 0.3429 - binary_accuracy: 0.8680 - precision: 0.8579 - recall: 0.8824 - val_loss: 0.4902 - val_binary_accuracy: 0.8054 - val_precision: 0.7616 - val_recall: 0.8839\n",
            "Epoch 60/100\n",
            "2836/2836 [==============================] - 65s 23ms/step - loss: 0.3407 - binary_accuracy: 0.8708 - precision: 0.8609 - recall: 0.8849 - val_loss: 0.4883 - val_binary_accuracy: 0.8103 - val_precision: 0.7620 - val_recall: 0.8973\n",
            "Epoch 61/100\n",
            "2836/2836 [==============================] - 66s 23ms/step - loss: 0.3376 - binary_accuracy: 0.8730 - precision: 0.8635 - recall: 0.8863 - val_loss: 0.4808 - val_binary_accuracy: 0.8113 - val_precision: 0.7657 - val_recall: 0.8921\n",
            "Epoch 62/100\n",
            "2836/2836 [==============================] - 65s 23ms/step - loss: 0.3369 - binary_accuracy: 0.8734 - precision: 0.8638 - recall: 0.8868 - val_loss: 0.4924 - val_binary_accuracy: 0.8055 - val_precision: 0.7474 - val_recall: 0.9175\n",
            "Epoch 63/100\n",
            "2836/2836 [==============================] - 66s 23ms/step - loss: 0.3365 - binary_accuracy: 0.8729 - precision: 0.8612 - recall: 0.8894 - val_loss: 0.4979 - val_binary_accuracy: 0.8049 - val_precision: 0.7438 - val_recall: 0.9247\n",
            "Epoch 64/100\n",
            "2836/2836 [==============================] - 65s 23ms/step - loss: 0.3284 - binary_accuracy: 0.8775 - precision: 0.8674 - recall: 0.8914 - val_loss: 0.4903 - val_binary_accuracy: 0.8130 - val_precision: 0.7603 - val_recall: 0.9091\n",
            "Epoch 65/100\n",
            "2836/2836 [==============================] - 66s 23ms/step - loss: 0.3276 - binary_accuracy: 0.8783 - precision: 0.8682 - recall: 0.8923 - val_loss: 0.5236 - val_binary_accuracy: 0.7933 - val_precision: 0.7253 - val_recall: 0.9382\n",
            "Epoch 66/100\n",
            "2836/2836 [==============================] - 66s 23ms/step - loss: 0.3259 - binary_accuracy: 0.8792 - precision: 0.8702 - recall: 0.8916 - val_loss: 0.4994 - val_binary_accuracy: 0.8085 - val_precision: 0.7481 - val_recall: 0.9249\n",
            "Epoch 67/100\n",
            "2836/2836 [==============================] - 66s 23ms/step - loss: 0.3272 - binary_accuracy: 0.8787 - precision: 0.8689 - recall: 0.8924 - val_loss: 0.4964 - val_binary_accuracy: 0.8052 - val_precision: 0.7417 - val_recall: 0.9311\n",
            "Epoch 68/100\n",
            "2836/2836 [==============================] - 65s 23ms/step - loss: 0.3234 - binary_accuracy: 0.8812 - precision: 0.8692 - recall: 0.8977 - val_loss: 0.4966 - val_binary_accuracy: 0.8040 - val_precision: 0.7392 - val_recall: 0.9339\n",
            "Epoch 69/100\n",
            "2836/2836 [==============================] - 66s 23ms/step - loss: 0.3194 - binary_accuracy: 0.8833 - precision: 0.8731 - recall: 0.8972 - val_loss: 0.4834 - val_binary_accuracy: 0.8118 - val_precision: 0.7543 - val_recall: 0.9197\n",
            "Epoch 70/100\n",
            "2836/2836 [==============================] - 66s 23ms/step - loss: 0.3203 - binary_accuracy: 0.8828 - precision: 0.8730 - recall: 0.8963 - val_loss: 0.4932 - val_binary_accuracy: 0.8074 - val_precision: 0.7470 - val_recall: 0.9243\n",
            "Epoch 71/100\n",
            "2836/2836 [==============================] - 66s 23ms/step - loss: 0.3175 - binary_accuracy: 0.8853 - precision: 0.8790 - recall: 0.8940 - val_loss: 0.4751 - val_binary_accuracy: 0.8148 - val_precision: 0.7614 - val_recall: 0.9121\n",
            "Epoch 72/100\n",
            "2836/2836 [==============================] - 66s 23ms/step - loss: 0.3169 - binary_accuracy: 0.8853 - precision: 0.8774 - recall: 0.8959 - val_loss: 0.4812 - val_binary_accuracy: 0.8126 - val_precision: 0.7564 - val_recall: 0.9171\n",
            "Epoch 73/100\n",
            "2836/2836 [==============================] - 66s 23ms/step - loss: 0.3136 - binary_accuracy: 0.8873 - precision: 0.8786 - recall: 0.8990 - val_loss: 0.4874 - val_binary_accuracy: 0.8078 - val_precision: 0.7461 - val_recall: 0.9277\n",
            "Epoch 74/100\n",
            "2836/2836 [==============================] - 66s 23ms/step - loss: 0.3118 - binary_accuracy: 0.8880 - precision: 0.8783 - recall: 0.9011 - val_loss: 0.4799 - val_binary_accuracy: 0.8165 - val_precision: 0.7564 - val_recall: 0.9287\n",
            "Epoch 75/100\n",
            "2836/2836 [==============================] - 66s 23ms/step - loss: 0.3083 - binary_accuracy: 0.8908 - precision: 0.8827 - recall: 0.9016 - val_loss: 0.4957 - val_binary_accuracy: 0.8126 - val_precision: 0.7515 - val_recall: 0.9289\n",
            "Epoch 76/100\n",
            "2836/2836 [==============================] - 66s 23ms/step - loss: 0.3079 - binary_accuracy: 0.8908 - precision: 0.8834 - recall: 0.9007 - val_loss: 0.4775 - val_binary_accuracy: 0.8204 - val_precision: 0.7700 - val_recall: 0.9091\n",
            "Epoch 77/100\n",
            "2836/2836 [==============================] - 66s 23ms/step - loss: 0.3032 - binary_accuracy: 0.8928 - precision: 0.8842 - recall: 0.9043 - val_loss: 0.4923 - val_binary_accuracy: 0.8121 - val_precision: 0.7518 - val_recall: 0.9265\n",
            "Epoch 78/100\n",
            "2836/2836 [==============================] - 65s 23ms/step - loss: 0.3029 - binary_accuracy: 0.8918 - precision: 0.8835 - recall: 0.9029 - val_loss: 0.4967 - val_binary_accuracy: 0.8093 - val_precision: 0.7435 - val_recall: 0.9392\n",
            "Epoch 79/100\n",
            "2836/2836 [==============================] - 66s 23ms/step - loss: 0.3047 - binary_accuracy: 0.8916 - precision: 0.8842 - recall: 0.9014 - val_loss: 0.4780 - val_binary_accuracy: 0.8183 - val_precision: 0.7588 - val_recall: 0.9285\n",
            "Epoch 80/100\n",
            "2836/2836 [==============================] - 66s 23ms/step - loss: 0.3010 - binary_accuracy: 0.8951 - precision: 0.8874 - recall: 0.9052 - val_loss: 0.5029 - val_binary_accuracy: 0.8092 - val_precision: 0.7437 - val_recall: 0.9382\n",
            "Epoch 81/100\n",
            "2836/2836 [==============================] - 66s 23ms/step - loss: 0.3004 - binary_accuracy: 0.8953 - precision: 0.8875 - recall: 0.9055 - val_loss: 0.4851 - val_binary_accuracy: 0.8144 - val_precision: 0.7539 - val_recall: 0.9285\n",
            "Epoch 82/100\n",
            "2836/2836 [==============================] - 66s 23ms/step - loss: 0.2973 - binary_accuracy: 0.8961 - precision: 0.8885 - recall: 0.9062 - val_loss: 0.4848 - val_binary_accuracy: 0.8193 - val_precision: 0.7597 - val_recall: 0.9293\n",
            "Epoch 83/100\n",
            "2836/2836 [==============================] - 65s 23ms/step - loss: 0.2979 - binary_accuracy: 0.8965 - precision: 0.8890 - recall: 0.9064 - val_loss: 0.4902 - val_binary_accuracy: 0.8159 - val_precision: 0.7527 - val_recall: 0.9359\n",
            "Epoch 84/100\n",
            "2836/2836 [==============================] - 66s 23ms/step - loss: 0.2947 - binary_accuracy: 0.8987 - precision: 0.8902 - recall: 0.9099 - val_loss: 0.4759 - val_binary_accuracy: 0.8203 - val_precision: 0.7603 - val_recall: 0.9307\n",
            "Epoch 85/100\n",
            "2836/2836 [==============================] - 66s 23ms/step - loss: 0.2954 - binary_accuracy: 0.8975 - precision: 0.8893 - recall: 0.9082 - val_loss: 0.4864 - val_binary_accuracy: 0.8174 - val_precision: 0.7546 - val_recall: 0.9357\n",
            "Epoch 86/100\n",
            "2836/2836 [==============================] - 66s 23ms/step - loss: 0.2930 - binary_accuracy: 0.8989 - precision: 0.8914 - recall: 0.9086 - val_loss: 0.4870 - val_binary_accuracy: 0.8183 - val_precision: 0.7562 - val_recall: 0.9347\n",
            "Epoch 87/100\n",
            "2836/2836 [==============================] - 66s 23ms/step - loss: 0.2892 - binary_accuracy: 0.8997 - precision: 0.8924 - recall: 0.9092 - val_loss: 0.4915 - val_binary_accuracy: 0.8178 - val_precision: 0.7562 - val_recall: 0.9331\n",
            "Epoch 88/100\n",
            "2836/2836 [==============================] - 65s 23ms/step - loss: 0.2915 - binary_accuracy: 0.9012 - precision: 0.8943 - recall: 0.9103 - val_loss: 0.4915 - val_binary_accuracy: 0.8173 - val_precision: 0.7541 - val_recall: 0.9367\n",
            "Epoch 89/100\n",
            "2836/2836 [==============================] - 66s 23ms/step - loss: 0.2880 - binary_accuracy: 0.9011 - precision: 0.8946 - recall: 0.9097 - val_loss: 0.4945 - val_binary_accuracy: 0.8195 - val_precision: 0.7578 - val_recall: 0.9343\n",
            "Epoch 90/100\n",
            "2836/2836 [==============================] - 67s 23ms/step - loss: 0.2867 - binary_accuracy: 0.9024 - precision: 0.8964 - recall: 0.9101 - val_loss: 0.5178 - val_binary_accuracy: 0.8136 - val_precision: 0.7479 - val_recall: 0.9412\n",
            "Epoch 91/100\n",
            "2836/2836 [==============================] - 66s 23ms/step - loss: 0.2874 - binary_accuracy: 0.9027 - precision: 0.8957 - recall: 0.9118 - val_loss: 0.4939 - val_binary_accuracy: 0.8188 - val_precision: 0.7536 - val_recall: 0.9426\n",
            "Epoch 92/100\n",
            "2836/2836 [==============================] - 66s 23ms/step - loss: 0.2875 - binary_accuracy: 0.9022 - precision: 0.8963 - recall: 0.9098 - val_loss: 0.4851 - val_binary_accuracy: 0.8241 - val_precision: 0.7657 - val_recall: 0.9293\n",
            "Epoch 93/100\n",
            "2836/2836 [==============================] - 66s 23ms/step - loss: 0.2846 - binary_accuracy: 0.9054 - precision: 0.8999 - recall: 0.9126 - val_loss: 0.4628 - val_binary_accuracy: 0.8370 - val_precision: 0.7912 - val_recall: 0.9115\n",
            "Epoch 94/100\n",
            "2836/2836 [==============================] - 66s 23ms/step - loss: 0.2856 - binary_accuracy: 0.9029 - precision: 0.8970 - recall: 0.9105 - val_loss: 0.4845 - val_binary_accuracy: 0.8212 - val_precision: 0.7580 - val_recall: 0.9390\n",
            "Epoch 95/100\n",
            "2836/2836 [==============================] - 66s 23ms/step - loss: 0.2824 - binary_accuracy: 0.9052 - precision: 0.8988 - recall: 0.9134 - val_loss: 0.4946 - val_binary_accuracy: 0.8241 - val_precision: 0.7638 - val_recall: 0.9337\n",
            "Epoch 96/100\n",
            "2836/2836 [==============================] - 66s 23ms/step - loss: 0.2820 - binary_accuracy: 0.9044 - precision: 0.8977 - recall: 0.9130 - val_loss: 0.5199 - val_binary_accuracy: 0.8101 - val_precision: 0.7436 - val_recall: 0.9414\n",
            "Epoch 97/100\n",
            "2836/2836 [==============================] - 66s 23ms/step - loss: 0.2800 - binary_accuracy: 0.9056 - precision: 0.8993 - recall: 0.9137 - val_loss: 0.4856 - val_binary_accuracy: 0.8250 - val_precision: 0.7651 - val_recall: 0.9333\n",
            "Epoch 98/100\n",
            "2836/2836 [==============================] - 64s 23ms/step - loss: 0.2787 - binary_accuracy: 0.9067 - precision: 0.8995 - recall: 0.9160 - val_loss: 0.4858 - val_binary_accuracy: 0.8201 - val_precision: 0.7586 - val_recall: 0.9341\n",
            "Epoch 99/100\n",
            "2836/2836 [==============================] - 66s 23ms/step - loss: 0.2778 - binary_accuracy: 0.9063 - precision: 0.8998 - recall: 0.9147 - val_loss: 0.5014 - val_binary_accuracy: 0.8130 - val_precision: 0.7476 - val_recall: 0.9398\n",
            "Epoch 100/100\n",
            "2836/2836 [==============================] - 66s 23ms/step - loss: 0.2746 - binary_accuracy: 0.9089 - precision: 0.9019 - recall: 0.9178 - val_loss: 0.5319 - val_binary_accuracy: 0.8076 - val_precision: 0.7385 - val_recall: 0.9472\n"
          ],
          "name": "stdout"
        }
      ]
    },
    {
      "cell_type": "markdown",
      "metadata": {
        "id": "Llf6NHEFqvLd"
      },
      "source": [
        "# Visualize Training"
      ]
    },
    {
      "cell_type": "code",
      "metadata": {
        "id": "MCC68mBfRhvr",
        "colab": {
          "base_uri": "https://localhost:8080/",
          "height": 1000
        },
        "outputId": "0950eb5c-bf7d-471b-bc9c-799fe9ba0f2e"
      },
      "source": [
        "loss = history.history['loss']\n",
        "val_loss = history.history['val_loss']\n",
        "\n",
        "plt.figure()\n",
        "plt.plot(history.epoch, loss, 'b', label='Training loss')\n",
        "plt.plot(history.epoch, val_loss, 'c', label='Validation loss')\n",
        "plt.title('Training and Validation Loss')\n",
        "plt.xlabel('Epoch')\n",
        "plt.ylabel('Loss Value')\n",
        "plt.ylim([0, 1])\n",
        "plt.legend()\n",
        "plt.show()\n",
        "\n",
        "# ##########################################################\n",
        "\n",
        "metrics = history.history['binary_accuracy']\n",
        "val_metrics = history.history['val_binary_accuracy']\n",
        "\n",
        "plt.figure()\n",
        "plt.plot(history.epoch, metrics, 'r', label='Training accuracy')\n",
        "plt.plot(history.epoch, val_metrics, 'g', label='Validation accuracy')\n",
        "plt.title('Training and Validation Accuracy')\n",
        "plt.xlabel('Epoch')\n",
        "plt.ylabel('Accuracy Value')\n",
        "plt.ylim([0, 1])\n",
        "plt.legend()\n",
        "plt.show()\n",
        "\n",
        "# ##########################################################\n",
        "\n",
        "metrics = history.history['precision']\n",
        "val_metrics = history.history['val_precision']\n",
        "\n",
        "plt.figure()\n",
        "plt.plot(history.epoch, metrics, 'r', label='Training precision')\n",
        "plt.plot(history.epoch, val_metrics, 'g', label='Validation precision')\n",
        "plt.title('Training and Validation Precision')\n",
        "plt.xlabel('Epoch')\n",
        "plt.ylabel('Precision Value')\n",
        "plt.ylim([0, 1])\n",
        "plt.legend()\n",
        "plt.show()\n",
        "\n",
        "# ##########################################################\n",
        "\n",
        "metrics = history.history['recall']\n",
        "val_metrics = history.history['val_recall']\n",
        "\n",
        "plt.figure()\n",
        "plt.plot(history.epoch, metrics, 'r', label='Training recall')\n",
        "plt.plot(history.epoch, val_metrics, 'g', label='Validation recall')\n",
        "plt.title('Training and Validation Recall')\n",
        "plt.xlabel('Epoch')\n",
        "plt.ylabel('Recall Value')\n",
        "plt.ylim([0, 1])\n",
        "plt.legend()\n",
        "plt.show()\n"
      ],
      "execution_count": null,
      "outputs": [
        {
          "output_type": "display_data",
          "data": {
            "image/png": "[encoded data removed]",
            "text/plain": [
              "<Figure size 432x288 with 1 Axes>"
            ]
          },
          "metadata": {
            "tags": [],
            "needs_background": "light"
          }
        },
        {
          "output_type": "display_data",
          "data": {
            "image/png": "[encoded data removed]",
            "text/plain": [
              "<Figure size 432x288 with 1 Axes>"
            ]
          },
          "metadata": {
            "tags": [],
            "needs_background": "light"
          }
        },
        {
          "output_type": "display_data",
          "data": {
            "image/png": "[encoded data removed]",
            "text/plain": [
              "<Figure size 432x288 with 1 Axes>"
            ]
          },
          "metadata": {
            "tags": [],
            "needs_background": "light"
          }
        },
        {
          "output_type": "display_data",
          "data": {
            "image/png": "[encoded data removed]",
            "text/plain": [
              "<Figure size 432x288 with 1 Axes>"
            ]
          },
          "metadata": {
            "tags": [],
            "needs_background": "light"
          }
        }
      ]
    },
    {
      "cell_type": "markdown",
      "metadata": {
        "id": "mw6RE1sAq0hs"
      },
      "source": [
        "# Evaluate Model"
      ]
    },
    {
      "cell_type": "markdown",
      "metadata": {
        "id": "J8pXpdloGcwC"
      },
      "source": [
        "## Human testing"
      ]
    },
    {
      "cell_type": "code",
      "metadata": {
        "id": "jqlRZvMGD8fa",
        "colab": {
          "base_uri": "https://localhost:8080/"
        },
        "outputId": "7d6b5f7f-420e-4017-d273-a7b4267fa875"
      },
      "source": [
        "_, acc, prec, recall = model.evaluate(X_test_human_comb, y_test_human_comb, verbose=2)\n",
        "print(\"**** Human ****\\nAccuracy: {:.2f}%\\nPrecision: {:.2f}%\\nRecall: {:.2f}%\".format(acc*100, prec*100, recall*100))"
      ],
      "execution_count": null,
      "outputs": [
        {
          "output_type": "stream",
          "text": [
            "83/83 - 1s - loss: 0.7567 - binary_accuracy: 0.7146 - precision: 0.7326 - recall: 0.6757\n",
            "**** Human ****\n",
            "Accuracy: 71.46%\n",
            "Precision: 73.26%\n",
            "Recall: 67.57%\n"
          ],
          "name": "stdout"
        }
      ]
    },
    {
      "cell_type": "markdown",
      "metadata": {
        "id": "Obx2lQPHGe-h"
      },
      "source": [
        "## Mouse testing"
      ]
    },
    {
      "cell_type": "code",
      "metadata": {
        "id": "6cG7Xa65GelD",
        "colab": {
          "base_uri": "https://localhost:8080/"
        },
        "outputId": "9ce5519a-f10b-44ef-96af-896a4ddc1ba9"
      },
      "source": [
        "_, acc, prec, recall = model.evaluate(X_test_mouse_comb, y_test_mouse_comb, verbose=2)\n",
        "print(\"**** Mouse ****\\nAccuracy: {:.2f}%\\nPrecision: {:.2f}%\\nRecall: {:.2f}%\".format(acc*100, prec*100, recall*100))"
      ],
      "execution_count": null,
      "outputs": [
        {
          "output_type": "stream",
          "text": [
            "83/83 - 1s - loss: 0.7407 - binary_accuracy: 0.7168 - precision: 0.7362 - recall: 0.6757\n",
            "**** Mouse ****\n",
            "Accuracy: 71.68%\n",
            "Precision: 73.62%\n",
            "Recall: 67.57%\n"
          ],
          "name": "stdout"
        }
      ]
    },
    {
      "cell_type": "markdown",
      "metadata": {
        "id": "ulob0kmKGppW"
      },
      "source": [
        "# Reset Model"
      ]
    },
    {
      "cell_type": "code",
      "metadata": {
        "id": "AklbhESaTZBp",
        "colab": {
          "base_uri": "https://localhost:8080/",
          "height": 37
        },
        "outputId": "2bc2c428-7f8d-4523-f030-eedb5ffd8b1c"
      },
      "source": [
        "'''Uncomment to reset tensorflow graphs'''\n",
        "# tf.keras.backend.clear_session()"
      ],
      "execution_count": null,
      "outputs": [
        {
          "output_type": "execute_result",
          "data": {
            "application/vnd.google.colaboratory.intrinsic+json": {
              "type": "string"
            },
            "text/plain": [
              "'Uncomment to reset tensorflow graphs'"
            ]
          },
          "metadata": {
            "tags": []
          },
          "execution_count": 26
        }
      ]
    }
  ]
}